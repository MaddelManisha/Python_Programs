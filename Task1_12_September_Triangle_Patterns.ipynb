{
 "cells": [
  {
   "cell_type": "code",
   "execution_count": null,
   "id": "17a41ab3",
   "metadata": {},
   "outputs": [],
   "source": [
    "#Triangle Pattern Programs"
   ]
  },
  {
   "cell_type": "code",
   "execution_count": null,
   "id": "954770ab",
   "metadata": {},
   "outputs": [],
   "source": [
    "#Increasing Pattern (i+1)"
   ]
  },
  {
   "cell_type": "code",
   "execution_count": 34,
   "id": "bc403020",
   "metadata": {},
   "outputs": [
    {
     "name": "stdout",
     "output_type": "stream",
     "text": [
      "* \n",
      "* * \n",
      "* * * \n",
      "* * * * \n",
      "* * * * * \n"
     ]
    }
   ],
   "source": [
    "n=5\n",
    "for i in range(n):\n",
    "    for j in range(i+1):\n",
    "        print(\"*\",end=' ')\n",
    "    print(\"\")"
   ]
  },
  {
   "cell_type": "code",
   "execution_count": null,
   "id": "99607d27",
   "metadata": {},
   "outputs": [],
   "source": [
    "#Decreasing Pattern (i,n)"
   ]
  },
  {
   "cell_type": "code",
   "execution_count": 36,
   "id": "3f9ebbe6",
   "metadata": {},
   "outputs": [
    {
     "name": "stdout",
     "output_type": "stream",
     "text": [
      "* * * * *  \n",
      "* * * *  \n",
      "* * *  \n",
      "* *  \n",
      "*  \n"
     ]
    }
   ],
   "source": [
    "n=5\n",
    "for i in range(n):\n",
    "    for j in range(i,n):\n",
    "        print(\"*\",end=\" \")\n",
    "    print(\" \")"
   ]
  },
  {
   "cell_type": "code",
   "execution_count": 37,
   "id": "bfb4840f",
   "metadata": {},
   "outputs": [],
   "source": [
    "#2 triangles i for spaces and other for *"
   ]
  },
  {
   "cell_type": "code",
   "execution_count": 44,
   "id": "9371e7a8",
   "metadata": {},
   "outputs": [
    {
     "name": "stdout",
     "output_type": "stream",
     "text": [
      "  * * * * *  \n",
      "    * * * *  \n",
      "      * * *  \n",
      "        * *  \n",
      "          *  \n"
     ]
    }
   ],
   "source": [
    "n=5\n",
    "for i in range(n):\n",
    "    for j in range(i+1):\n",
    "        print(\" \",end=' ')\n",
    "    for k in range(i,n):\n",
    "        print(\"*\",end=' ')\n",
    "    print(' ')"
   ]
  },
  {
   "cell_type": "code",
   "execution_count": null,
   "id": "58905e5f",
   "metadata": {},
   "outputs": [],
   "source": [
    "#2 triangles i for spaces and other for *"
   ]
  },
  {
   "cell_type": "code",
   "execution_count": 45,
   "id": "2d6d82fd",
   "metadata": {
    "scrolled": false
   },
   "outputs": [
    {
     "name": "stdout",
     "output_type": "stream",
     "text": [
      "          *  \n",
      "        * *  \n",
      "      * * *  \n",
      "    * * * *  \n",
      "  * * * * *  \n"
     ]
    }
   ],
   "source": [
    "n=5\n",
    "for i in range (n):\n",
    "    for j in range(i,n):\n",
    "        print(\" \",end= \" \")\n",
    "    for k in range(i+1):\n",
    "        print(\"*\",end=\" \")\n",
    "    print(\" \")"
   ]
  },
  {
   "cell_type": "code",
   "execution_count": null,
   "id": "9b28f52c",
   "metadata": {},
   "outputs": [],
   "source": [
    "# task1 \n",
    "\n",
    "#         *\n",
    "#       *   *\n",
    "#     *   *   *\n",
    "#   *   *   *   *\n",
    "# *   *   *   *   *\n",
    "#   *   *   *   *   \n",
    "#     *   *   *\n",
    "#       *   *\n",
    "#         *"
   ]
  },
  {
   "cell_type": "code",
   "execution_count": 97,
   "id": "7202a61a",
   "metadata": {},
   "outputs": [
    {
     "name": "stdout",
     "output_type": "stream",
     "text": [
      "          *  \n",
      "        * * *  \n",
      "      * * * * *  \n",
      "    * * * * * * *  \n",
      "  * * * * * * * * *  \n",
      "    * * * * * * *  \n",
      "      * * * * *  \n",
      "        * * *  \n",
      "          *  \n"
     ]
    }
   ],
   "source": [
    "n=5\n",
    "for i in range(n-1):\n",
    "    for j in range(i,n):\n",
    "        print(\" \",end= \" \")\n",
    "    for k in range(i+1):\n",
    "        print(\"*\",end=\" \")\n",
    "    for l in range(i):\n",
    "        print(\"*\",end=\" \")\n",
    "    print(\" \")\n",
    "n=5\n",
    "for i in range(n):\n",
    "    for j in range(i+1):\n",
    "        print(\" \",end=' ')\n",
    "    for k in range(i,n-1):\n",
    "        print(\"*\",end=' ')\n",
    "    for l in range(i,n):\n",
    "        print(\"*\",end=' ')\n",
    "    print(\" \")\n"
   ]
  },
  {
   "cell_type": "code",
   "execution_count": null,
   "id": "43a7b767",
   "metadata": {},
   "outputs": [],
   "source": [
    "#up Hill"
   ]
  },
  {
   "cell_type": "code",
   "execution_count": 100,
   "id": "4b467b80",
   "metadata": {},
   "outputs": [
    {
     "name": "stdout",
     "output_type": "stream",
     "text": [
      "          *  \n",
      "        * * *  \n",
      "      * * * * *  \n",
      "    * * * * * * *  \n",
      "  * * * * * * * * *  \n"
     ]
    }
   ],
   "source": [
    "n=5\n",
    "for i in range(n):\n",
    "    for j in range(i ,n):\n",
    "        print(\" \",end=\" \")\n",
    "    for k in range(i+1):\n",
    "        print(\"*\",end=\" \")\n",
    "    for l in range(i):\n",
    "        print(\"*\",end=' ')\n",
    "    print(\" \")\n",
    "\n"
   ]
  },
  {
   "cell_type": "code",
   "execution_count": 106,
   "id": "075b89e4",
   "metadata": {},
   "outputs": [
    {
     "name": "stdout",
     "output_type": "stream",
     "text": [
      "  * * * * * * * * *  \n",
      "    * * * * * * *  \n",
      "      * * * * *  \n",
      "        * * *  \n",
      "          *  \n"
     ]
    }
   ],
   "source": [
    "#Down Hill\n",
    "\n",
    "n=5\n",
    "for i in range(n):\n",
    "    for j in range(i+1):\n",
    "        print(\" \",end=\" \")\n",
    "    for k in range(i,n):\n",
    "        print(\"*\",end=\" \")\n",
    "    for l in range(i,n-1):\n",
    "        print(\"*\",end=\" \")\n",
    "    print(\" \")"
   ]
  },
  {
   "cell_type": "code",
   "execution_count": null,
   "id": "a1eef8cd",
   "metadata": {},
   "outputs": [],
   "source": [
    "#Butterfly"
   ]
  },
  {
   "cell_type": "code",
   "execution_count": 127,
   "id": "6ef2f4c1",
   "metadata": {},
   "outputs": [
    {
     "name": "stdout",
     "output_type": "stream",
     "text": [
      "*                 *  \n",
      "* *             * *  \n",
      "* * *         * * *  \n",
      "* * * *     * * * *  \n",
      "* * * * * * * * * *  \n",
      "* * * *     * * * *  \n",
      "* * *         * * *  \n",
      "* *             * *  \n",
      "*                 *  \n"
     ]
    }
   ],
   "source": [
    "n=5\n",
    "for i in range(n-1):\n",
    "    for j in range(i+1):\n",
    "        print(\"*\", end = \" \")\n",
    "    for k in range(i,n-1):\n",
    "        print(\" \",end= \" \")\n",
    "    for l in range(i,n-1):\n",
    "        print(\" \",end=\" \") \n",
    "    for l in range(i+1):\n",
    "        print(\"*\",end=\" \")\n",
    "    print(\" \")\n",
    "for i in range(n):\n",
    "    for l in range(i,n):\n",
    "        print(\"*\", end =\" \")\n",
    "    for j in range(i):\n",
    "        print(\" \",end=\" \")\n",
    "    for m in range(i):\n",
    "        print(\" \",end=\" \")\n",
    "    for k in range(i,n):\n",
    "        print(\"*\",end=\" \")\n",
    "   \n",
    "    print(\" \")"
   ]
  },
  {
   "cell_type": "code",
   "execution_count": 130,
   "id": "c2572185",
   "metadata": {},
   "outputs": [
    {
     "name": "stdout",
     "output_type": "stream",
     "text": [
      "*  \n",
      "* *  \n",
      "* * *  \n",
      "* * * *  \n",
      "* * * * *  \n",
      "* * * *  \n",
      "* * *  \n",
      "* *  \n",
      "*  \n"
     ]
    }
   ],
   "source": [
    "#Left Pascal Triangle\n",
    "n=5\n",
    "for i in range(n-1):\n",
    "    for j in range(i+1):\n",
    "        print(\"*\",end=' ')\n",
    "    print(\" \")\n",
    "for i in range(n):\n",
    "    for k in range(i,n):\n",
    "        print(\"*\",end=\" \")\n",
    "    print(\" \")"
   ]
  },
  {
   "cell_type": "code",
   "execution_count": 134,
   "id": "f46f41cb",
   "metadata": {},
   "outputs": [
    {
     "name": "stdout",
     "output_type": "stream",
     "text": [
      "          *  \n",
      "        * *  \n",
      "      * * *  \n",
      "    * * * *  \n",
      "  * * * * *  \n",
      "    * * * *  \n",
      "      * * *  \n",
      "        * *  \n",
      "          *  \n"
     ]
    }
   ],
   "source": [
    "#Right Pascal Triangle\n",
    "n=5\n",
    "for i in range(n-1):\n",
    "    for j in range(i,n):\n",
    "        print(\" \",end=\" \")\n",
    "    for k in range(i+1):\n",
    "        print(\"*\",end=\" \")\n",
    "    print(\" \")\n",
    "for i in range(n):\n",
    "    for j in range(i+1):\n",
    "        print(\" \",end=\" \")\n",
    "    for k in range(i ,n):\n",
    "        print(\"*\",end= \" \")\n",
    "    print(\" \")"
   ]
  },
  {
   "cell_type": "code",
   "execution_count": 139,
   "id": "12f51f5d",
   "metadata": {},
   "outputs": [
    {
     "name": "stdout",
     "output_type": "stream",
     "text": [
      "  * * * * * * * * *  \n",
      "    * * * * * * *  \n",
      "      * * * * *  \n",
      "        * * *  \n",
      "          *  \n",
      "          *  \n",
      "        * * *  \n",
      "      * * * * *  \n",
      "    * * * * * * *  \n",
      "  * * * * * * * * *  \n"
     ]
    }
   ],
   "source": [
    "#sandglass\n",
    "\n",
    "n=5\n",
    "for i in range(n):\n",
    "    for j in range(i+1):\n",
    "        print(\" \",end=\" \")\n",
    "    for k in range(i,n-1):\n",
    "        print(\"*\",end=\" \")\n",
    "    for l in range(i,n):\n",
    "        print(\"*\",end=\" \")\n",
    "    print(\" \")\n",
    "for i in range(n):\n",
    "    for j in range(i,n):\n",
    "        print(\" \",end=\" \")\n",
    "    for k in range(i):\n",
    "        print(\"*\",end=\" \")\n",
    "    for l in range(i+1):\n",
    "        print(\"*\",end=\" \")\n",
    "    print(\" \")"
   ]
  },
  {
   "cell_type": "code",
   "execution_count": null,
   "id": "068312c8",
   "metadata": {},
   "outputs": [],
   "source": [
    "#Double Hill"
   ]
  },
  {
   "cell_type": "code",
   "execution_count": 161,
   "id": "94c6c2e2",
   "metadata": {},
   "outputs": [
    {
     "name": "stdout",
     "output_type": "stream",
     "text": [
      "        *                 *  \n",
      "      * * *             * * *  \n",
      "    * * * * *         * * * * *  \n",
      "  * * * * * * *     * * * * * * *  \n",
      "* * * * * * * * * * * * * * * * * *  \n"
     ]
    }
   ],
   "source": [
    "n=5\n",
    "for i in range(n):\n",
    "    for j in range(i,n-1):\n",
    "        print(\" \",end=\" \")\n",
    "    for k in range(i):\n",
    "        print(\"*\",end=\" \")\n",
    "    for l in range(i+1):\n",
    "        print(\"*\",end=\" \")\n",
    "    for m in range(i,n-1):\n",
    "        print(\" \",end=\" \")\n",
    "    for q in range(i,n-1):\n",
    "        print(\" \",end=\" \")\n",
    "    for o in range(i):\n",
    "        print(\"*\",end=\" \")\n",
    "    for p in range(i+1):\n",
    "        print(\"*\",end=\" \") \n",
    "    print(\" \")"
   ]
  },
  {
   "cell_type": "code",
   "execution_count": null,
   "id": "0e86ff6f",
   "metadata": {},
   "outputs": [],
   "source": []
  }
 ],
 "metadata": {
  "kernelspec": {
   "display_name": "Python 3",
   "language": "python",
   "name": "python3"
  },
  "language_info": {
   "codemirror_mode": {
    "name": "ipython",
    "version": 3
   },
   "file_extension": ".py",
   "mimetype": "text/x-python",
   "name": "python",
   "nbconvert_exporter": "python",
   "pygments_lexer": "ipython3",
   "version": "3.8.8"
  }
 },
 "nbformat": 4,
 "nbformat_minor": 5
}
