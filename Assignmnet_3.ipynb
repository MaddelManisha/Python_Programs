{
 "cells": [
  {
   "cell_type": "code",
   "execution_count": null,
   "id": "5272e4e4",
   "metadata": {},
   "outputs": [],
   "source": [
    "#Write a Python Program to implement your own myreduce() function which works exactly\n",
    "#like Python's built-in function reduce()"
   ]
  },
  {
   "cell_type": "code",
   "execution_count": 10,
   "id": "2ca95272",
   "metadata": {},
   "outputs": [
    {
     "name": "stdout",
     "output_type": "stream",
     "text": [
      "enter how many numbers you want to find Product of :4\n",
      "Enter number1\n",
      "Enter number4\n",
      "Enter number7\n",
      "Enter number3\n",
      "Product of numbers in list is 84\n"
     ]
    }
   ],
   "source": [
    "n=int(input(\"enter how many numbers you want to find Product of :\"))\n",
    "\n",
    "l=[]\n",
    "\n",
    "for i in range(n):\n",
    "    k=int(input(\"Enter number\"))\n",
    "    l.append(k)\n",
    "    \n",
    "\n",
    "def prod(x,y):\n",
    "    prod1=1;\n",
    "    prod1=x*y\n",
    "    return prod1\n",
    "    \n",
    "def reduce_template(fact,l):\n",
    "    temp=1\n",
    "    for i in range(0,len(l),2):\n",
    "        temp=temp*prod(l[i],l[i+1])\n",
    "    print(\"Product of numbers in list is\",temp)   \n",
    "   \n",
    "    \n",
    "reduce_template(fact,l)\n"
   ]
  },
  {
   "cell_type": "markdown",
   "id": "f74d0953",
   "metadata": {},
   "source": [
    "#Write a Python program to implement your own myfilter() function which works exactly\n",
    "#like Python's built-in function filter()"
   ]
  },
  {
   "cell_type": "code",
   "execution_count": 16,
   "id": "5581e9c0",
   "metadata": {},
   "outputs": [
    {
     "name": "stdout",
     "output_type": "stream",
     "text": [
      "enter how many numbers you want to check for prime numbers of :4\n",
      "Enter number1\n",
      "Enter number2\n",
      "Enter number3\n",
      "Enter number4\n",
      "Not a prime Number\n",
      "Number of Prime numbers are [1, 2, 3]\n"
     ]
    }
   ],
   "source": [
    "n=int(input(\"enter how many numbers you want to check for prime numbers of :\"))\n",
    "\n",
    "l=[]\n",
    "\n",
    "for i in range(n):\n",
    "    k=int(input(\"Enter number\"))\n",
    "    l.append(k)\n",
    "    \n",
    "\n",
    "def prime_check(x):\n",
    "    for i in range(2,x):\n",
    "        if(x%i==0 and x!=1):\n",
    "            print(\"Not a prime Number\")\n",
    "            return False\n",
    "    return True\n",
    "    \n",
    "def reduce_template(prime_check,l):\n",
    "    temp=False\n",
    "    p=[]\n",
    "    for i in range(0,len(l)):\n",
    "        temp=prime_check(l[i])\n",
    "        if(temp==True):\n",
    "            p.append(l[i])\n",
    "    print(\"Number of Prime numbers are\",p)   \n",
    "   \n",
    "    \n",
    "reduce_template(prime_check, l)"
   ]
  },
  {
   "cell_type": "code",
   "execution_count": null,
   "id": "a3cd320d",
   "metadata": {},
   "outputs": [],
   "source": [
    "# #Implement List comprehensions to produce the following lists.\n",
    "# #Write List comprehensions to produce the following Lists\n",
    "# ['x', 'xx', 'xxx', 'xxxx', 'y', 'yy', 'yyy', 'yyyy', 'z', 'zz', 'zzz', 'zzzz']\n",
    "# ['x', 'y', 'z', 'xx', 'yy', 'zz', 'xxx', 'yyy', 'zzz', 'xxxx', 'yyyy', 'zzzz']\n",
    "# [[2], [3], [4], [3], [4], [5], [4], [5], [6]] [[2, 3, 4, 5], [3, 4, 5, 6],\n",
    "# [4, 5, 6, 7], [5, 6, 7, 8]]\n",
    "# [(1, 1), (2, 1), (3, 1), (1, 2), (2, 2), (3, 2), (1, 3), (2, 3), (3, 3)]"
   ]
  },
  {
   "cell_type": "code",
   "execution_count": 61,
   "id": "946b8fcd",
   "metadata": {},
   "outputs": [
    {
     "name": "stdout",
     "output_type": "stream",
     "text": [
      "['x', 'xx', 'xxx', 'xxxx', 'y', 'yy', 'yyy', 'yyyy', 'z', 'zz', 'zzz', 'zzzz']\n"
     ]
    }
   ],
   "source": [
    "# ['x', 'xx', 'xxx', 'xxxx', 'y', 'yy', 'yyy', 'yyyy', 'z', 'zz', 'zzz', 'zzzz']\n",
    "\n",
    "list=['x','y','z']\n",
    "\n",
    "temp=[item*i for item in list for i in range(1,5)]\n",
    "\n",
    "print(temp)"
   ]
  },
  {
   "cell_type": "code",
   "execution_count": 62,
   "id": "c748286d",
   "metadata": {},
   "outputs": [
    {
     "name": "stdout",
     "output_type": "stream",
     "text": [
      "['x', 'y', 'z', 'xx', 'yy', 'zz', 'xxx', 'yyy', 'zzz', 'xxxx', 'yyyy', 'zzzz']\n"
     ]
    }
   ],
   "source": [
    "# ['x', 'y', 'z', 'xx', 'yy', 'zz', 'xxx', 'yyy', 'zzz', 'xxxx', 'yyyy', 'zzzz']\n",
    "\n",
    "temp=[item*i for i in range(1,5) for item in list]\n",
    "\n",
    "print(temp)\n"
   ]
  },
  {
   "cell_type": "code",
   "execution_count": 66,
   "id": "435ff78f",
   "metadata": {},
   "outputs": [
    {
     "name": "stdout",
     "output_type": "stream",
     "text": [
      "[[2], [3], [4], [4], [6], [8], [6], [9], [12], [8], [12], [16]]\n"
     ]
    }
   ],
   "source": [
    "#[[2], [3], [4], [3], [4], [5], [4], [5], [6]] [[2, 3, 4, 5], [3, 4, 5, 6],[4, 5, 6, 7], [5, 6, 7, 8]]\n",
    "\n",
    "list=[2,3,4]\n",
    "\n",
    "temp=[[item*i] for i in range(1,5) for item in list]\n",
    "\n",
    "print(temp)\n",
    "\n",
    "\n"
   ]
  },
  {
   "cell_type": "code",
   "execution_count": 79,
   "id": "c7ca585b",
   "metadata": {},
   "outputs": [
    {
     "name": "stdout",
     "output_type": "stream",
     "text": [
      "[(1, 1), (2, 1), (3, 1), (1, 2), (2, 2), (3, 2), (1, 3), (2, 3), (3, 3)]\n"
     ]
    }
   ],
   "source": [
    "#[(1, 1), (2, 1), (3, 1), (1, 2), (2, 2), (3, 2), (1, 3), (2, 3), (3, 3)]\n",
    "\n",
    "list=[1,2,3]\n",
    "temp=[((items),(i)) for i in range(1 , 4) for items in list]\n",
    "print(temp)"
   ]
  },
  {
   "cell_type": "code",
   "execution_count": null,
   "id": "66cdd4a6",
   "metadata": {},
   "outputs": [],
   "source": []
  }
 ],
 "metadata": {
  "kernelspec": {
   "display_name": "Python 3",
   "language": "python",
   "name": "python3"
  },
  "language_info": {
   "codemirror_mode": {
    "name": "ipython",
    "version": 3
   },
   "file_extension": ".py",
   "mimetype": "text/x-python",
   "name": "python",
   "nbconvert_exporter": "python",
   "pygments_lexer": "ipython3",
   "version": "3.8.8"
  }
 },
 "nbformat": 4,
 "nbformat_minor": 5
}
