{
 "cells": [
  {
   "cell_type": "code",
   "execution_count": null,
   "id": "a5f49112",
   "metadata": {},
   "outputs": [],
   "source": [
    "import tkinter\n",
    "\n",
    "root=tkinter.Tk()\n",
    "\n",
    "#tw.title(\"Manisha GUI APP\")\n",
    "\n",
    "#img=tkinter.PhotoImage(file=\"/Users/manishamaddel/Downloads/png-transparent-cat-animal-lovely-cat-2.png\")\n",
    "#screenwidth=tw.winfo()\n",
    "#screenheight=tw.hinfo()\n",
    "root.geometry(\"600x200\")\n",
    "\n",
    "root.resizable(False, False)\n",
    "\n",
    "lbl1=tkinter.Label(root, text=\"welcome to python in ineuron by manisha\")\n",
    "lbl1.config(fg=\"red\",bg=\"yellow\")\n",
    "\n",
    "#lbl2=tkinter.Label(root, text=\"Python Rocks\", bg=\"green\")\n",
    "lbl1.pack()\n",
    "#lbl2.pack()\n",
    "\n",
    "\n",
    "root.mainloop()"
   ]
  },
  {
   "cell_type": "code",
   "execution_count": null,
   "id": "fc819953",
   "metadata": {},
   "outputs": [],
   "source": [
    "import tkinter\n",
    "root=tkinter.Tk()\n",
    "root.geometry(\"600x200\")\n",
    "lbl1=tkinter.Label(root, text=\"Welcome to Python\",bg=\"red\",fg=\"blue\")\n",
    "\n",
    "lbl1.config(bg=\"yellow\")\n",
    "lbl1.pack()\n",
    "root.mainloop()"
   ]
  },
  {
   "cell_type": "code",
   "execution_count": null,
   "id": "38749e63",
   "metadata": {},
   "outputs": [],
   "source": [
    "import tkinter\n",
    "root = tkinter.Tk()\n",
    "root.geometry(\"600x200\")\n",
    "lbl=tkinter.Label(root,text=\"welcome\", font=\"Arial 22 bold\")\n",
    "print(lbl.keys())\n",
    "lbl.pack()\n",
    "root.mainloop()"
   ]
  },
  {
   "cell_type": "code",
   "execution_count": null,
   "id": "5db48a02",
   "metadata": {},
   "outputs": [],
   "source": [
    "#same as above but using config\n",
    "\n",
    "import tkinter\n",
    "root = tkinter.Tk()\n",
    "root.geometry(\"600x200\")\n",
    "lbl=tkinter.Label(root,text=\"welcome\")\n",
    "lbl.config(font=\"Arial 42 bold\")  #multi word string\n",
    "print(lbl.keys())\n",
    "lbl.pack()\n",
    "root.mainloop()"
   ]
  },
  {
   "cell_type": "code",
   "execution_count": null,
   "id": "04933514",
   "metadata": {},
   "outputs": [],
   "source": [
    "import tkinter\n",
    "root = tkinter.Tk()\n",
    "root.geometry(\"600x200\")\n",
    "lbl=tkinter.Label(root,text=\"welcome\")\n",
    "lbl.config(font=\"Arial 42 bold\")  #multi word string\n",
    "print(lbl.keys())\n",
    "lbl.pack()\n",
    "root.mainloop()"
   ]
  },
  {
   "cell_type": "code",
   "execution_count": null,
   "id": "bdc16650",
   "metadata": {},
   "outputs": [],
   "source": [
    "lbl=tkinter.Label(TW,text=\"welcome\")\n",
    "fg=(\"red\",font=(\"Times New Roman\"))"
   ]
  },
  {
   "cell_type": "code",
   "execution_count": 1,
   "id": "918c9996",
   "metadata": {},
   "outputs": [
    {
     "name": "stdout",
     "output_type": "stream",
     "text": [
      "['activebackground', 'activeforeground', 'anchor', 'background', 'bd', 'bg', 'bitmap', 'borderwidth', 'compound', 'cursor', 'disabledforeground', 'fg', 'font', 'foreground', 'height', 'highlightbackground', 'highlightcolor', 'highlightthickness', 'image', 'justify', 'padx', 'pady', 'relief', 'state', 'takefocus', 'text', 'textvariable', 'underline', 'width', 'wraplength']\n"
     ]
    }
   ],
   "source": [
    "import tkinter\n",
    "root = tkinter.Tk()\n",
    "root.geometry(\"600x200\")\n",
    "lbl=tkinter.Label(root,text=\"welcome\", font=\"Arial 42 bold\")\n",
    "lbl.config(font=\"Arial 42 bold\")  #multi word string\n",
    "print(lbl.keys())\n",
    "lbl.pack()\n",
    "root.mainloop()"
   ]
  }
 ],
 "metadata": {
  "kernelspec": {
   "display_name": "Python 3 (ipykernel)",
   "language": "python",
   "name": "python3"
  },
  "language_info": {
   "codemirror_mode": {
    "name": "ipython",
    "version": 3
   },
   "file_extension": ".py",
   "mimetype": "text/x-python",
   "name": "python",
   "nbconvert_exporter": "python",
   "pygments_lexer": "ipython3",
   "version": "3.9.7"
  }
 },
 "nbformat": 4,
 "nbformat_minor": 5
}
