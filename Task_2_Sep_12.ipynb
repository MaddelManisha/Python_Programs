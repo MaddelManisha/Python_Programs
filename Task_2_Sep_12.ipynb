{
 "cells": [
  {
   "cell_type": "code",
   "execution_count": null,
   "id": "8cfd8918",
   "metadata": {},
   "outputs": [],
   "source": [
    "#Task 2\n",
    "\n",
    "# INPUT L=[[1,1,2,2,3,3],[2,4,2,2,5],[1,5,8,8,2]]\n",
    "\n",
    "# OUTPUT \n",
    "#L1 =  1=2 , 2=2, 3=2 \n",
    "#l2 =  2=3\n",
    "#L3 =  8=2"
   ]
  },
  {
   "cell_type": "code",
   "execution_count": 1,
   "id": "3c97e821",
   "metadata": {},
   "outputs": [],
   "source": [
    "L=[[1,1,2,2,3,3],[2,4,2,2,5],[1,5,8,8,2]]"
   ]
  },
  {
   "cell_type": "code",
   "execution_count": 43,
   "id": "c20ff38c",
   "metadata": {},
   "outputs": [
    {
     "name": "stdout",
     "output_type": "stream",
     "text": [
      "lst_ 1 1 -  2\n",
      "lst_ 1 2 -  2\n",
      "lst_ 1 3 -  2\n",
      "lst_ 2 2 -  3\n"
     ]
    }
   ],
   "source": [
    "cnt1=0\n",
    "cnt2=0\n",
    "cnt3=0\n",
    "cnt4=0\n",
    "cnt5=0\n",
    "cnt6=0\n",
    "cnt2=0\n",
    "cnt7=0\n",
    "cnt8=0\n",
    "cnt9=0\n",
    "lst=0\n",
    "for i in L:\n",
    "    lst=lst+1\n",
    "    for k in i:\n",
    "        if(k==1):\n",
    "            cnt1=cnt1+1\n",
    "        if(k==2):\n",
    "            cnt2=cnt2+1\n",
    "        if(k==3):\n",
    "            cnt3=cnt3+1\n",
    "        if(k==4):\n",
    "            cnt4=cnt4+1\n",
    "        if(k==5):\n",
    "            cnt5=cnt5+1\n",
    "        if(k==6):\n",
    "            cnt6=cnt6+1\n",
    "        if(k==7):\n",
    "            cnt7=cnt7+1\n",
    "        if(k==8):\n",
    "            cnt6=cnt8+1\n",
    "        if(k==9):\n",
    "            cnt9=cnt9+1\n",
    "    if(cnt1)>1:\n",
    "           print(\"lst_\",lst,\"1 - \",cnt1)\n",
    "    if(cnt2)>1:\n",
    "           print(\"lst_\",lst,\"2 - \",cnt2)\n",
    "    if(cnt3)>1:\n",
    "           print(\"lst_\",lst,\"3 - \",cnt3)\n",
    "    if(cnt4)>1:\n",
    "           print(\"lst_\",lst,\"4 - \",cnt4)\n",
    "    if(cnt5)>1:\n",
    "           print(\"lst_\",lst,\"5- \",cnt5)\n",
    "    if(cnt6>1):\n",
    "           print(\"lst_\",lst,\"6 - \",cnt6)\n",
    "    if(cnt7)>1:\n",
    "           print(\"lst_\",lst,\"7 - \",cnt7)\n",
    "    if(cnt8)>1:\n",
    "           print(\"lst_\",lst,\"8 - \",cnt8)\n",
    "    if(cnt9)>1:\n",
    "           print(\"lst_\",lst,\"9 - \",cnt9)      \n",
    "            \n",
    "    cnt1=cnt2=cnt3=cnt4=cnt5=cnt6=cnt7=cnt8=cnt9=0\n",
    "   "
   ]
  },
  {
   "cell_type": "code",
   "execution_count": null,
   "id": "093f1fee",
   "metadata": {},
   "outputs": [],
   "source": []
  }
 ],
 "metadata": {
  "kernelspec": {
   "display_name": "Python 3",
   "language": "python",
   "name": "python3"
  },
  "language_info": {
   "codemirror_mode": {
    "name": "ipython",
    "version": 3
   },
   "file_extension": ".py",
   "mimetype": "text/x-python",
   "name": "python",
   "nbconvert_exporter": "python",
   "pygments_lexer": "ipython3",
   "version": "3.8.8"
  }
 },
 "nbformat": 4,
 "nbformat_minor": 5
}
