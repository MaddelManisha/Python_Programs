{
 "cells": [
  {
   "cell_type": "code",
   "execution_count": null,
   "id": "8d2f369c",
   "metadata": {},
   "outputs": [],
   "source": [
    "#Create 2 sepearte list with even and odd numbers of size 10 and perform element wise addition operation"
   ]
  },
  {
   "cell_type": "code",
   "execution_count": 22,
   "id": "4a62ef14",
   "metadata": {},
   "outputs": [
    {
     "name": "stdout",
     "output_type": "stream",
     "text": [
      "[13, 17, 21, 25, 29, 12, 14]\n"
     ]
    }
   ],
   "source": [
    "lst1=[1,2,3,4,5,6,7,8,9,10,11,12,13,14]\n",
    "lst2=[11,12,13,14,15,16,17,18,19,20]\n",
    "final_array=[]\n",
    "\n",
    "m=[i for i in lst1 if(i%2==0)]\n",
    "n=[i for i in lst2 if(i%2!=0)]\n",
    "\n",
    "if (len(m)>len(n)):\n",
    "    temp=len(m)-len(n)\n",
    "    for i in range(temp):\n",
    "        n.append(0)\n",
    "if (len(m)<len(n)):\n",
    "    temp=len(n)-len(m)\n",
    "    for i in range(temp):\n",
    "        m.append(0)\n",
    "\n",
    "for i in range(0,len(m)):\n",
    "    final_array.append(m[i]+n[i])\n",
    "print(final_array)"
   ]
  },
  {
   "cell_type": "code",
   "execution_count": null,
   "id": "2d33d05e",
   "metadata": {},
   "outputs": [],
   "source": [
    "#Write a list comprehension operation for generating all the list of alphabetical character in upper case and lower case\n"
   ]
  },
  {
   "cell_type": "code",
   "execution_count": 27,
   "id": "ab2b6882",
   "metadata": {},
   "outputs": [
    {
     "name": "stdout",
     "output_type": "stream",
     "text": [
      "['A', 'B', 'C', 'D', 'E', 'F', 'G', 'H', 'I', 'J', 'K', 'L', 'M', 'N', 'O', 'P', 'Q', 'R', 'S', 'T', 'U', 'V', 'W', 'X', 'Y', 'Z']\n",
      "['a', 'b', 'c', 'd', 'e', 'f', 'g', 'h', 'i', 'j', 'k', 'l', 'm', 'n', 'o', 'p', 'q', 'r', 's', 't', 'u', 'v', 'w', 'x', 'y', 'z']\n"
     ]
    }
   ],
   "source": [
    "lst1=['a','b','c','d','e','f','g','h','i','j','k','l','m','n','o','p','q','r','s','t','u','v','w','x','y','z']\n",
    "lst2=['A','B','C','D','E','F','G','H','I','J','K','L','M','N','O','P','Q','R','S','T','U','V','W','X','Y','Z']\n",
    "\n",
    "Upper_case_list=[item.upper()for item in lst1]\n",
    "print(Upper_case_list)\n",
    "Lower_case_list=[item.lower()for item in lst2]\n",
    "print(Lower_case_list)"
   ]
  },
  {
   "cell_type": "code",
   "execution_count": 50,
   "id": "e6825658",
   "metadata": {},
   "outputs": [
    {
     "name": "stdout",
     "output_type": "stream",
     "text": [
      "Reverse of string is ['a', 'h', 's', 'i', 'n', 'a', 'm']\n"
     ]
    }
   ],
   "source": [
    "#write a code to reverse a string by using while statement\n",
    "\n",
    "str1=\"manisha\"\n",
    "str_rev=[]\n",
    "i=-1\n",
    "length=len(str1)-1\n",
    "while(length+1):\n",
    "    str_rev.append(str1[length])\n",
    "    length=length-1\n",
    "    \n",
    "print(\"Reverse of string is\",str_rev)    "
   ]
  },
  {
   "cell_type": "code",
   "execution_count": 45,
   "id": "4adf77e5",
   "metadata": {},
   "outputs": [
    {
     "name": "stdout",
     "output_type": "stream",
     "text": [
      "Enter String to check if it is pallindrome:  mam\n",
      "1 -2\n",
      "2 -3\n",
      "3 -4\n",
      "String is a pallindrome\n"
     ]
    }
   ],
   "source": [
    "#write a code for pallindrome by using while statement\n",
    "\n",
    "str1=input(\"Enter String to check if it is pallindrome:  \")\n",
    "\n",
    "\n",
    "\n",
    "flag=False\n",
    "j=-1\n",
    "i=0\n",
    "\n",
    "\n",
    "while(i<len(str1)):\n",
    "    if(str1[i]!=str1[j]):\n",
    "        print(str1[i],str1[j])\n",
    "        flag=False\n",
    "        break\n",
    "    else:\n",
    "        flag=True\n",
    "    i=i+1\n",
    "    j=j-1\n",
    "    print(i,j)\n",
    "\n",
    "if flag==True:\n",
    "    print(\"String is a pallindrome\")\n",
    "if flag==False:\n",
    "    print(\"String is not a pallindrome\")\n",
    "\n",
    "    \n",
    "\n",
    "    "
   ]
  },
  {
   "cell_type": "code",
   "execution_count": null,
   "id": "9cff804f",
   "metadata": {},
   "outputs": [],
   "source": [
    "#write a code to sort your string in alphabetical order not to use sort fucntion"
   ]
  },
  {
   "cell_type": "code",
   "execution_count": 168,
   "id": "5541a575",
   "metadata": {},
   "outputs": [
    {
     "name": "stdout",
     "output_type": "stream",
     "text": [
      "Enter a string : mani\n",
      "['M', 'A', 'N', 'I']\n",
      "['A', 'I', 'M', 'N']\n",
      "<class 'str'>\n",
      "A I M N\n"
     ]
    }
   ],
   "source": [
    "str1=input(\"Enter a string : \")\n",
    "str1=list(str1.upper())\n",
    "\n",
    "print(str1)\n",
    "\n",
    "\n",
    "\n",
    "for i in range(len(str1)):\n",
    "     for j in range(i,len(str1)):\n",
    "            if(str1[i]>=str1[j]):\n",
    "                str1[i],str1[j]=str1[j],str1[i]\n",
    "\n",
    "print(str1)\n",
    "str_sort=' '.join(str(e) for e in str1)\n",
    "print(type(str_sort))\n",
    "print(str_sort)\n",
    "            \n",
    "            \n",
    "        \n",
    "      \n",
    "            \n",
    "\n"
   ]
  },
  {
   "cell_type": "code",
   "execution_count": null,
   "id": "503d6f45",
   "metadata": {},
   "outputs": [],
   "source": []
  },
  {
   "cell_type": "code",
   "execution_count": null,
   "id": "69257fd8",
   "metadata": {},
   "outputs": [],
   "source": []
  }
 ],
 "metadata": {
  "kernelspec": {
   "display_name": "Python 3",
   "language": "python",
   "name": "python3"
  },
  "language_info": {
   "codemirror_mode": {
    "name": "ipython",
    "version": 3
   },
   "file_extension": ".py",
   "mimetype": "text/x-python",
   "name": "python",
   "nbconvert_exporter": "python",
   "pygments_lexer": "ipython3",
   "version": "3.8.8"
  }
 },
 "nbformat": 4,
 "nbformat_minor": 5
}
