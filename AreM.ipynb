{
 "cells": [
  {
   "cell_type": "code",
   "execution_count": 1,
   "id": "d8595466",
   "metadata": {},
   "outputs": [],
   "source": [
    "import pandas as pd\n",
    "import numpy as np\n",
    "import os\n",
    "import glob"
   ]
  },
  {
   "cell_type": "code",
   "execution_count": 13,
   "id": "58bfe3dc",
   "metadata": {},
   "outputs": [],
   "source": [
    "path=os.getcwd()"
   ]
  },
  {
   "cell_type": "code",
   "execution_count": 3,
   "id": "3014f7a3",
   "metadata": {},
   "outputs": [
    {
     "data": {
      "text/plain": [
       "'/Users/manishamaddel/Documents/Ineuron/AReM'"
      ]
     },
     "execution_count": 3,
     "metadata": {},
     "output_type": "execute_result"
    }
   ],
   "source": [
    "path"
   ]
  },
  {
   "cell_type": "code",
   "execution_count": 40,
   "id": "f850c057",
   "metadata": {},
   "outputs": [],
   "source": [
    "all_files = glob.glob('/Users/manishamaddel/Documents/Ineuron/AReM/*/*.csv')"
   ]
  },
  {
   "cell_type": "code",
   "execution_count": 16,
   "id": "41053d83",
   "metadata": {},
   "outputs": [
    {
     "data": {
      "text/plain": [
       "list"
      ]
     },
     "execution_count": 16,
     "metadata": {},
     "output_type": "execute_result"
    }
   ],
   "source": [
    "type(all_files)"
   ]
  },
  {
   "cell_type": "code",
   "execution_count": 23,
   "id": "e95a4d7a",
   "metadata": {},
   "outputs": [
    {
     "data": {
      "text/plain": [
       "'/Users/manishamaddel/Documents/Ineuron/AReM/bending1/dataset7.csv'"
      ]
     },
     "execution_count": 23,
     "metadata": {},
     "output_type": "execute_result"
    }
   ],
   "source": [
    "all_files[0]"
   ]
  },
  {
   "cell_type": "code",
   "execution_count": 90,
   "id": "6ede2471",
   "metadata": {},
   "outputs": [
    {
     "name": "stdout",
     "output_type": "stream",
     "text": [
      "0\n",
      "1\n",
      "2\n",
      "3\n",
      "4\n"
     ]
    },
    {
     "data": {
      "text/html": [
       "<div>\n",
       "<style scoped>\n",
       "    .dataframe tbody tr th:only-of-type {\n",
       "        vertical-align: middle;\n",
       "    }\n",
       "\n",
       "    .dataframe tbody tr th {\n",
       "        vertical-align: top;\n",
       "    }\n",
       "\n",
       "    .dataframe thead th {\n",
       "        text-align: right;\n",
       "    }\n",
       "</style>\n",
       "<table border=\"1\" class=\"dataframe\">\n",
       "  <thead>\n",
       "    <tr style=\"text-align: right;\">\n",
       "      <th></th>\n",
       "      <th>0</th>\n",
       "      <th>1</th>\n",
       "      <th>2</th>\n",
       "      <th>3</th>\n",
       "      <th>4</th>\n",
       "      <th>5</th>\n",
       "      <th>6</th>\n",
       "    </tr>\n",
       "  </thead>\n",
       "  <tbody>\n",
       "    <tr>\n",
       "      <th>5</th>\n",
       "      <td>0</td>\n",
       "      <td>42.00</td>\n",
       "      <td>0.00</td>\n",
       "      <td>18.50</td>\n",
       "      <td>0.50</td>\n",
       "      <td>12.00</td>\n",
       "      <td>0.00</td>\n",
       "    </tr>\n",
       "    <tr>\n",
       "      <th>6</th>\n",
       "      <td>250</td>\n",
       "      <td>42.00</td>\n",
       "      <td>0.00</td>\n",
       "      <td>18.00</td>\n",
       "      <td>0.00</td>\n",
       "      <td>11.33</td>\n",
       "      <td>0.94</td>\n",
       "    </tr>\n",
       "    <tr>\n",
       "      <th>7</th>\n",
       "      <td>500</td>\n",
       "      <td>42.75</td>\n",
       "      <td>0.43</td>\n",
       "      <td>16.75</td>\n",
       "      <td>1.79</td>\n",
       "      <td>18.25</td>\n",
       "      <td>0.43</td>\n",
       "    </tr>\n",
       "    <tr>\n",
       "      <th>8</th>\n",
       "      <td>750</td>\n",
       "      <td>42.50</td>\n",
       "      <td>0.50</td>\n",
       "      <td>16.75</td>\n",
       "      <td>0.83</td>\n",
       "      <td>19.00</td>\n",
       "      <td>1.22</td>\n",
       "    </tr>\n",
       "    <tr>\n",
       "      <th>9</th>\n",
       "      <td>1000</td>\n",
       "      <td>43.00</td>\n",
       "      <td>0.82</td>\n",
       "      <td>16.25</td>\n",
       "      <td>0.83</td>\n",
       "      <td>18.00</td>\n",
       "      <td>0.00</td>\n",
       "    </tr>\n",
       "    <tr>\n",
       "      <th>...</th>\n",
       "      <td>...</td>\n",
       "      <td>...</td>\n",
       "      <td>...</td>\n",
       "      <td>...</td>\n",
       "      <td>...</td>\n",
       "      <td>...</td>\n",
       "      <td>...</td>\n",
       "    </tr>\n",
       "    <tr>\n",
       "      <th>31520</th>\n",
       "      <td>118750</td>\n",
       "      <td>44.25</td>\n",
       "      <td>0.83</td>\n",
       "      <td>16.25</td>\n",
       "      <td>1.30</td>\n",
       "      <td>24.00</td>\n",
       "      <td>0.00</td>\n",
       "    </tr>\n",
       "    <tr>\n",
       "      <th>31521</th>\n",
       "      <td>119000</td>\n",
       "      <td>44.00</td>\n",
       "      <td>0.71</td>\n",
       "      <td>11.00</td>\n",
       "      <td>1.00</td>\n",
       "      <td>24.00</td>\n",
       "      <td>0.00</td>\n",
       "    </tr>\n",
       "    <tr>\n",
       "      <th>31522</th>\n",
       "      <td>119250</td>\n",
       "      <td>44.25</td>\n",
       "      <td>0.43</td>\n",
       "      <td>10.25</td>\n",
       "      <td>1.30</td>\n",
       "      <td>22.75</td>\n",
       "      <td>0.83</td>\n",
       "    </tr>\n",
       "    <tr>\n",
       "      <th>31523</th>\n",
       "      <td>119500</td>\n",
       "      <td>43.75</td>\n",
       "      <td>0.43</td>\n",
       "      <td>7.33</td>\n",
       "      <td>2.87</td>\n",
       "      <td>21.50</td>\n",
       "      <td>0.50</td>\n",
       "    </tr>\n",
       "    <tr>\n",
       "      <th>31524</th>\n",
       "      <td>119750</td>\n",
       "      <td>44.50</td>\n",
       "      <td>0.50</td>\n",
       "      <td>3.00</td>\n",
       "      <td>1.22</td>\n",
       "      <td>21.50</td>\n",
       "      <td>0.50</td>\n",
       "    </tr>\n",
       "  </tbody>\n",
       "</table>\n",
       "<p>31520 rows × 7 columns</p>\n",
       "</div>"
      ],
      "text/plain": [
       "            0      1     2      3     4      5     6\n",
       "5           0  42.00  0.00  18.50  0.50  12.00  0.00\n",
       "6         250  42.00  0.00  18.00  0.00  11.33  0.94\n",
       "7         500  42.75  0.43  16.75  1.79  18.25  0.43\n",
       "8         750  42.50  0.50  16.75  0.83  19.00  1.22\n",
       "9        1000  43.00  0.82  16.25  0.83  18.00  0.00\n",
       "...       ...    ...   ...    ...   ...    ...   ...\n",
       "31520  118750  44.25  0.83  16.25  1.30  24.00  0.00\n",
       "31521  119000  44.00  0.71  11.00  1.00  24.00  0.00\n",
       "31522  119250  44.25  0.43  10.25  1.30  22.75  0.83\n",
       "31523  119500  43.75  0.43   7.33  2.87  21.50  0.50\n",
       "31524  119750  44.50  0.50   3.00  1.22  21.50  0.50\n",
       "\n",
       "[31520 rows x 7 columns]"
      ]
     },
     "execution_count": 90,
     "metadata": {},
     "output_type": "execute_result"
    }
   ],
   "source": [
    "list1=[]\n",
    "import csv\n",
    "for file in files:\n",
    "    with open(all_files[0],'r') as file:\n",
    "        reader=csv.reader(file,)\n",
    "        for row in reader:\n",
    "            #print(row)\n",
    "            list1.append(row)\n",
    "        \n",
    "        \n",
    "for i in range(5):\n",
    "    print(i)\n",
    "    #print(list1[i])\n",
    "    list1[i].pop()\n",
    "    #print(list1[i])\n",
    "    \n",
    "df=pd.DataFrame(list1)\n",
    "\n",
    "df.drop([0,1,2,3,4],axis=0)\n",
    "\n",
    "\n",
    "        "
   ]
  },
  {
   "cell_type": "code",
   "execution_count": null,
   "id": "dd155891",
   "metadata": {},
   "outputs": [],
   "source": []
  },
  {
   "cell_type": "code",
   "execution_count": null,
   "id": "ed8198a9",
   "metadata": {},
   "outputs": [],
   "source": []
  }
 ],
 "metadata": {
  "kernelspec": {
   "display_name": "Python 3",
   "language": "python",
   "name": "python3"
  },
  "language_info": {
   "codemirror_mode": {
    "name": "ipython",
    "version": 3
   },
   "file_extension": ".py",
   "mimetype": "text/x-python",
   "name": "python",
   "nbconvert_exporter": "python",
   "pygments_lexer": "ipython3",
   "version": "3.8.8"
  }
 },
 "nbformat": 4,
 "nbformat_minor": 5
}
