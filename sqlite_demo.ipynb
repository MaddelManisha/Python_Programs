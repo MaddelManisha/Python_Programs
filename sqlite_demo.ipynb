{
 "cells": [
  {
   "cell_type": "code",
   "execution_count": 1,
   "id": "57d47ca8",
   "metadata": {},
   "outputs": [],
   "source": [
    "\n",
    "import sqlite3\n",
    "from ipynb.fs.full.Employee import *\n"
   ]
  },
  {
   "cell_type": "code",
   "execution_count": 2,
   "id": "bccb11ce",
   "metadata": {},
   "outputs": [],
   "source": [
    "conn=sqlite3.connect(':memory:')"
   ]
  },
  {
   "cell_type": "code",
   "execution_count": 3,
   "id": "64325a57",
   "metadata": {},
   "outputs": [],
   "source": [
    "c=conn.cursor()"
   ]
  },
  {
   "cell_type": "code",
   "execution_count": 4,
   "id": "8758cc62",
   "metadata": {},
   "outputs": [
    {
     "data": {
      "text/plain": [
       "<sqlite3.Cursor at 0x7fd7d1670420>"
      ]
     },
     "execution_count": 4,
     "metadata": {},
     "output_type": "execute_result"
    }
   ],
   "source": [
    "c.execute(\"\"\"CREATE TABLE employees(first text,last text,pay integer)\"\"\")"
   ]
  },
  {
   "cell_type": "code",
   "execution_count": 5,
   "id": "2574ed1b",
   "metadata": {},
   "outputs": [],
   "source": [
    "def insert_emp(emp):\n",
    "    print(\"in insert\")\n",
    "    with conn:\n",
    "        c.execute(\"insert into employees values(:first,:last,:pay)\",{'first':emp1.first,'last':emp1.last,'pay':emp1.pay})"
   ]
  },
  {
   "cell_type": "code",
   "execution_count": 6,
   "id": "32f9a26c",
   "metadata": {},
   "outputs": [],
   "source": [
    "def get_emps_by_name(lastname):\n",
    "    print(lastname)\n",
    "    c.execute(\"SELECT *FROM employees where last=last\",{'last':lastname})"
   ]
  },
  {
   "cell_type": "code",
   "execution_count": 35,
   "id": "6b2695fa",
   "metadata": {},
   "outputs": [],
   "source": [
    "def update_pay(emp,pay):\n",
    "    with conn:\n",
    "        c.execute(\"\"\"update employees set pay=  pay where first=:first and last=:last\"\"\",{'first':emp.first,'last':emp.last,'pay':pay})"
   ]
  },
  {
   "cell_type": "code",
   "execution_count": 8,
   "id": "ce6a13f2",
   "metadata": {},
   "outputs": [],
   "source": [
    "def remove_emp(emp):\n",
    "    with conn:\n",
    "        c.execute(\"delete from employees where first=:first and last=:last\",{'first':emp.first,'last':emp.last})"
   ]
  },
  {
   "cell_type": "code",
   "execution_count": 9,
   "id": "5f326e4e",
   "metadata": {},
   "outputs": [],
   "source": [
    "emp=Employee(\"gauri\",'kolekar',1200)"
   ]
  },
  {
   "cell_type": "code",
   "execution_count": 10,
   "id": "44304023",
   "metadata": {},
   "outputs": [],
   "source": [
    "emp1=Employee(\"charu\",'tandale',12000)"
   ]
  },
  {
   "cell_type": "code",
   "execution_count": 11,
   "id": "cfe33cc7",
   "metadata": {},
   "outputs": [
    {
     "name": "stdout",
     "output_type": "stream",
     "text": [
      "gauri\n",
      "kolekar\n",
      "1200\n"
     ]
    }
   ],
   "source": [
    "print(emp.first)\n",
    "print(emp.last)\n",
    "print(emp.pay)"
   ]
  },
  {
   "cell_type": "code",
   "execution_count": 12,
   "id": "dc1ea463",
   "metadata": {},
   "outputs": [
    {
     "data": {
      "text/plain": [
       "<sqlite3.Cursor at 0x7fd7d1670420>"
      ]
     },
     "execution_count": 12,
     "metadata": {},
     "output_type": "execute_result"
    }
   ],
   "source": [
    "c.execute(\"insert into employees values('{}','{}',{})\".format(emp.first,emp.last,emp.pay))"
   ]
  },
  {
   "cell_type": "code",
   "execution_count": 13,
   "id": "499755fc",
   "metadata": {},
   "outputs": [
    {
     "data": {
      "text/plain": [
       "<sqlite3.Cursor at 0x7fd7d1670420>"
      ]
     },
     "execution_count": 13,
     "metadata": {},
     "output_type": "execute_result"
    }
   ],
   "source": [
    "c.execute(\"insert into employees values(?,?,?)\",(emp1.first,emp1.last,emp1.pay))"
   ]
  },
  {
   "cell_type": "code",
   "execution_count": 14,
   "id": "632f4bce",
   "metadata": {},
   "outputs": [
    {
     "data": {
      "text/plain": [
       "<sqlite3.Cursor at 0x7fd7d1670420>"
      ]
     },
     "execution_count": 14,
     "metadata": {},
     "output_type": "execute_result"
    }
   ],
   "source": [
    "c.execute(\"insert into employees values(:first,:last,:pay)\",{'first':emp1.first,'last':emp1.last,'pay':emp1.pay})"
   ]
  },
  {
   "cell_type": "code",
   "execution_count": 15,
   "id": "c393389e",
   "metadata": {},
   "outputs": [
    {
     "data": {
      "text/plain": [
       "<sqlite3.Cursor at 0x7fd7d1670420>"
      ]
     },
     "execution_count": 15,
     "metadata": {},
     "output_type": "execute_result"
    }
   ],
   "source": [
    "c.execute(\"SELECT *FROM employees where last=?\",('maddel',))"
   ]
  },
  {
   "cell_type": "code",
   "execution_count": 16,
   "id": "a6a05fca",
   "metadata": {},
   "outputs": [
    {
     "data": {
      "text/plain": [
       "<sqlite3.Cursor at 0x7fd7d1670420>"
      ]
     },
     "execution_count": 16,
     "metadata": {},
     "output_type": "execute_result"
    }
   ],
   "source": [
    "c.execute(\"SELECT *FROM employees where last=last\",{'last':'kolekar'})"
   ]
  },
  {
   "cell_type": "code",
   "execution_count": 17,
   "id": "70557355",
   "metadata": {},
   "outputs": [
    {
     "data": {
      "text/plain": [
       "<sqlite3.Cursor at 0x7fd7d1670420>"
      ]
     },
     "execution_count": 17,
     "metadata": {},
     "output_type": "execute_result"
    }
   ],
   "source": [
    "c.execute(\"INSERT INTO employees VALUES('MANISHA','MADDEL',500000)\")"
   ]
  },
  {
   "cell_type": "code",
   "execution_count": 18,
   "id": "e00ceac6",
   "metadata": {},
   "outputs": [
    {
     "data": {
      "text/plain": [
       "<sqlite3.Cursor at 0x7fd7d1670420>"
      ]
     },
     "execution_count": 18,
     "metadata": {},
     "output_type": "execute_result"
    }
   ],
   "source": [
    "c.execute(\"INSERT INTO employees VALUES('ARYA','MADDEL',100000)\")"
   ]
  },
  {
   "cell_type": "code",
   "execution_count": 19,
   "id": "cf00dc7d",
   "metadata": {},
   "outputs": [
    {
     "data": {
      "text/plain": [
       "<sqlite3.Cursor at 0x7fd7d1670420>"
      ]
     },
     "execution_count": 19,
     "metadata": {},
     "output_type": "execute_result"
    }
   ],
   "source": [
    "c.execute(\"INSERT INTO employees VALUES('MANDAR','MADDEL',4000)\")"
   ]
  },
  {
   "cell_type": "code",
   "execution_count": 20,
   "id": "e5e3aae1",
   "metadata": {},
   "outputs": [
    {
     "data": {
      "text/plain": [
       "<sqlite3.Cursor at 0x7fd7d1670420>"
      ]
     },
     "execution_count": 20,
     "metadata": {},
     "output_type": "execute_result"
    }
   ],
   "source": [
    "c.execute(\"INSERT INTO employees VALUES('EURO','DOGGY',3000)\")"
   ]
  },
  {
   "cell_type": "code",
   "execution_count": 21,
   "id": "a0e98da5",
   "metadata": {},
   "outputs": [
    {
     "data": {
      "text/plain": [
       "<sqlite3.Cursor at 0x7fd7d1670420>"
      ]
     },
     "execution_count": 21,
     "metadata": {},
     "output_type": "execute_result"
    }
   ],
   "source": [
    "c.execute(\"SELECT *FROM employees where last='MADDEL'\")"
   ]
  },
  {
   "cell_type": "code",
   "execution_count": 22,
   "id": "bd09d8d8",
   "metadata": {},
   "outputs": [
    {
     "name": "stdout",
     "output_type": "stream",
     "text": [
      "('MANISHA', 'MADDEL', 500000)\n"
     ]
    }
   ],
   "source": [
    "print(c.fetchone())"
   ]
  },
  {
   "cell_type": "code",
   "execution_count": 23,
   "id": "8ca53a54",
   "metadata": {},
   "outputs": [
    {
     "name": "stdout",
     "output_type": "stream",
     "text": [
      "[('ARYA', 'MADDEL', 100000), ('MANDAR', 'MADDEL', 4000)]\n"
     ]
    }
   ],
   "source": [
    "print(c.fetchall())"
   ]
  },
  {
   "cell_type": "code",
   "execution_count": 24,
   "id": "bdb1d321",
   "metadata": {},
   "outputs": [
    {
     "name": "stdout",
     "output_type": "stream",
     "text": [
      "<sqlite3.Cursor object at 0x7fd7d1670420>\n"
     ]
    }
   ],
   "source": [
    "print(c)"
   ]
  },
  {
   "cell_type": "code",
   "execution_count": 25,
   "id": "d2cd37aa",
   "metadata": {},
   "outputs": [],
   "source": [
    "conn.commit()"
   ]
  },
  {
   "cell_type": "code",
   "execution_count": 26,
   "id": "3ddfbc47",
   "metadata": {},
   "outputs": [],
   "source": [
    "#conn.close()"
   ]
  },
  {
   "cell_type": "code",
   "execution_count": 27,
   "id": "90e4709b",
   "metadata": {},
   "outputs": [
    {
     "name": "stdout",
     "output_type": "stream",
     "text": [
      "in insert\n"
     ]
    }
   ],
   "source": [
    "emp2=Employee(\"shivani\",'rao',1500)\n",
    "insert_emp(emp2)"
   ]
  },
  {
   "cell_type": "code",
   "execution_count": 28,
   "id": "f418351b",
   "metadata": {},
   "outputs": [
    {
     "name": "stdout",
     "output_type": "stream",
     "text": [
      "in insert\n",
      "in insert\n"
     ]
    }
   ],
   "source": [
    "insert_emp(emp)\n",
    "insert_emp(emp1)"
   ]
  },
  {
   "cell_type": "code",
   "execution_count": 29,
   "id": "f2821577",
   "metadata": {},
   "outputs": [
    {
     "name": "stdout",
     "output_type": "stream",
     "text": [
      "kolekar\n",
      "None\n"
     ]
    }
   ],
   "source": [
    "emps=get_emps_by_name('kolekar')\n",
    "print(emps)"
   ]
  },
  {
   "cell_type": "code",
   "execution_count": 30,
   "id": "f1b638f6",
   "metadata": {},
   "outputs": [
    {
     "data": {
      "text/plain": [
       "<sqlite3.Cursor at 0x7fd7d1670420>"
      ]
     },
     "execution_count": 30,
     "metadata": {},
     "output_type": "execute_result"
    }
   ],
   "source": [
    "c.execute(\"SELECT *FROM employees\")"
   ]
  },
  {
   "cell_type": "code",
   "execution_count": 31,
   "id": "215dc646",
   "metadata": {},
   "outputs": [
    {
     "name": "stdout",
     "output_type": "stream",
     "text": [
      "[('gauri', 'kolekar', 1200), ('charu', 'tandale', 12000), ('charu', 'tandale', 12000), ('MANISHA', 'MADDEL', 500000), ('ARYA', 'MADDEL', 100000), ('MANDAR', 'MADDEL', 4000), ('EURO', 'DOGGY', 3000), ('charu', 'tandale', 12000), ('charu', 'tandale', 12000), ('charu', 'tandale', 12000)]\n"
     ]
    }
   ],
   "source": [
    "print(c.fetchall())"
   ]
  },
  {
   "cell_type": "code",
   "execution_count": 42,
   "id": "28d3b720",
   "metadata": {},
   "outputs": [
    {
     "data": {
      "text/plain": [
       "<sqlite3.Cursor at 0x7fd7d1670420>"
      ]
     },
     "execution_count": 42,
     "metadata": {},
     "output_type": "execute_result"
    }
   ],
   "source": [
    " c.execute(\"SELECT *FROM employees where last=last\",{'last':'maddel'})"
   ]
  },
  {
   "cell_type": "code",
   "execution_count": 43,
   "id": "ebd7b239",
   "metadata": {},
   "outputs": [
    {
     "name": "stdout",
     "output_type": "stream",
     "text": [
      "('charu', 'tandale', 12000)\n"
     ]
    }
   ],
   "source": [
    "print(c.fetchone())"
   ]
  },
  {
   "cell_type": "code",
   "execution_count": 36,
   "id": "d878d2e2",
   "metadata": {},
   "outputs": [],
   "source": [
    "update_pay(emp2,95000)"
   ]
  },
  {
   "cell_type": "code",
   "execution_count": 37,
   "id": "852c1fee",
   "metadata": {},
   "outputs": [
    {
     "name": "stdout",
     "output_type": "stream",
     "text": [
      "1500\n"
     ]
    }
   ],
   "source": [
    "print(emp2.pay)"
   ]
  },
  {
   "cell_type": "code",
   "execution_count": 38,
   "id": "19335435",
   "metadata": {},
   "outputs": [
    {
     "ename": "AttributeError",
     "evalue": "'NoneType' object has no attribute 'first'",
     "output_type": "error",
     "traceback": [
      "\u001b[0;31m---------------------------------------------------------------------------\u001b[0m",
      "\u001b[0;31mAttributeError\u001b[0m                            Traceback (most recent call last)",
      "\u001b[0;32m<ipython-input-38-ac337217a740>\u001b[0m in \u001b[0;36m<module>\u001b[0;34m\u001b[0m\n\u001b[0;32m----> 1\u001b[0;31m \u001b[0mremove_emp\u001b[0m\u001b[0;34m(\u001b[0m\u001b[0memps\u001b[0m\u001b[0;34m)\u001b[0m\u001b[0;34m\u001b[0m\u001b[0;34m\u001b[0m\u001b[0m\n\u001b[0m",
      "\u001b[0;32m<ipython-input-8-34da25174dc4>\u001b[0m in \u001b[0;36mremove_emp\u001b[0;34m(emp)\u001b[0m\n\u001b[1;32m      1\u001b[0m \u001b[0;32mdef\u001b[0m \u001b[0mremove_emp\u001b[0m\u001b[0;34m(\u001b[0m\u001b[0memp\u001b[0m\u001b[0;34m)\u001b[0m\u001b[0;34m:\u001b[0m\u001b[0;34m\u001b[0m\u001b[0;34m\u001b[0m\u001b[0m\n\u001b[1;32m      2\u001b[0m     \u001b[0;32mwith\u001b[0m \u001b[0mconn\u001b[0m\u001b[0;34m:\u001b[0m\u001b[0;34m\u001b[0m\u001b[0;34m\u001b[0m\u001b[0m\n\u001b[0;32m----> 3\u001b[0;31m         \u001b[0mc\u001b[0m\u001b[0;34m.\u001b[0m\u001b[0mexecute\u001b[0m\u001b[0;34m(\u001b[0m\u001b[0;34m\"delete from employees where first=:first and last=:last\"\u001b[0m\u001b[0;34m,\u001b[0m\u001b[0;34m{\u001b[0m\u001b[0;34m'first'\u001b[0m\u001b[0;34m:\u001b[0m\u001b[0memp\u001b[0m\u001b[0;34m.\u001b[0m\u001b[0mfirst\u001b[0m\u001b[0;34m,\u001b[0m\u001b[0;34m'last'\u001b[0m\u001b[0;34m:\u001b[0m\u001b[0memp\u001b[0m\u001b[0;34m.\u001b[0m\u001b[0mlast\u001b[0m\u001b[0;34m}\u001b[0m\u001b[0;34m)\u001b[0m\u001b[0;34m\u001b[0m\u001b[0;34m\u001b[0m\u001b[0m\n\u001b[0m",
      "\u001b[0;31mAttributeError\u001b[0m: 'NoneType' object has no attribute 'first'"
     ]
    }
   ],
   "source": [
    "remove_emp(emps)"
   ]
  },
  {
   "cell_type": "code",
   "execution_count": 40,
   "id": "9fe81a69",
   "metadata": {},
   "outputs": [
    {
     "data": {
      "text/plain": [
       "<sqlite3.Cursor at 0x7fd7d1670420>"
      ]
     },
     "execution_count": 40,
     "metadata": {},
     "output_type": "execute_result"
    }
   ],
   "source": [
    "c.execute(\"delete from employees where first=:first and last=:last\",{'first':emp.first,'last':emp.last})"
   ]
  },
  {
   "cell_type": "code",
   "execution_count": 41,
   "id": "da937de1",
   "metadata": {},
   "outputs": [
    {
     "name": "stdout",
     "output_type": "stream",
     "text": [
      "None\n"
     ]
    }
   ],
   "source": [
    "print(c.fetchone())\n"
   ]
  },
  {
   "cell_type": "code",
   "execution_count": 44,
   "id": "d5481f86",
   "metadata": {},
   "outputs": [
    {
     "data": {
      "text/plain": [
       "<sqlite3.Cursor at 0x7fd7d1670420>"
      ]
     },
     "execution_count": 44,
     "metadata": {},
     "output_type": "execute_result"
    }
   ],
   "source": [
    "c.execute(\"SELECT *FROM employees\")\n"
   ]
  },
  {
   "cell_type": "code",
   "execution_count": 45,
   "id": "194df14f",
   "metadata": {},
   "outputs": [
    {
     "name": "stdout",
     "output_type": "stream",
     "text": [
      "[('charu', 'tandale', 12000), ('charu', 'tandale', 12000), ('MANISHA', 'MADDEL', 500000), ('ARYA', 'MADDEL', 100000), ('MANDAR', 'MADDEL', 4000), ('EURO', 'DOGGY', 3000), ('charu', 'tandale', 12000), ('charu', 'tandale', 12000), ('charu', 'tandale', 12000)]\n"
     ]
    }
   ],
   "source": [
    "print(c.fetchall())\n"
   ]
  },
  {
   "cell_type": "code",
   "execution_count": null,
   "id": "40dc02d1",
   "metadata": {},
   "outputs": [],
   "source": []
  }
 ],
 "metadata": {
  "kernelspec": {
   "display_name": "Python 3",
   "language": "python",
   "name": "python3"
  },
  "language_info": {
   "codemirror_mode": {
    "name": "ipython",
    "version": 3
   },
   "file_extension": ".py",
   "mimetype": "text/x-python",
   "name": "python",
   "nbconvert_exporter": "python",
   "pygments_lexer": "ipython3",
   "version": "3.8.8"
  }
 },
 "nbformat": 4,
 "nbformat_minor": 5
}
