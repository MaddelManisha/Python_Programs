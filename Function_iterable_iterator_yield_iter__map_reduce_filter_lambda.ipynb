{
 "cells": [
  {
   "cell_type": "code",
   "execution_count": 2,
   "id": "54df5af5",
   "metadata": {},
   "outputs": [],
   "source": [
    "d={}\n",
    "for i in range(10):\n",
    "    d[i]=i**2\n",
    "    "
   ]
  },
  {
   "cell_type": "code",
   "execution_count": 3,
   "id": "4a4956a7",
   "metadata": {},
   "outputs": [
    {
     "data": {
      "text/plain": [
       "{0: 0, 1: 1, 2: 4, 3: 9, 4: 16, 5: 25, 6: 36, 7: 49, 8: 64, 9: 81}"
      ]
     },
     "execution_count": 3,
     "metadata": {},
     "output_type": "execute_result"
    }
   ],
   "source": [
    "d\n"
   ]
  },
  {
   "cell_type": "code",
   "execution_count": 4,
   "id": "9a824949",
   "metadata": {},
   "outputs": [],
   "source": [
    "l= ['sudh','kumar',\"xyz\",\"abc\"]\n",
    "d={}\n",
    "\n",
    "for i in l:\n",
    "    d[i]=i.upper()\n"
   ]
  },
  {
   "cell_type": "code",
   "execution_count": 5,
   "id": "394149dd",
   "metadata": {},
   "outputs": [
    {
     "data": {
      "text/plain": [
       "{'sudh': 'SUDH', 'kumar': 'KUMAR', 'xyz': 'XYZ', 'abc': 'ABC'}"
      ]
     },
     "execution_count": 5,
     "metadata": {},
     "output_type": "execute_result"
    }
   ],
   "source": [
    "d"
   ]
  },
  {
   "cell_type": "code",
   "execution_count": 6,
   "id": "ed0df5c8",
   "metadata": {},
   "outputs": [
    {
     "data": {
      "text/plain": [
       "{'sudh': 'SUDH', 'kumar': 'KUMAR', 'xyz': 'XYZ', 'abc': 'ABC'}"
      ]
     },
     "execution_count": 6,
     "metadata": {},
     "output_type": "execute_result"
    }
   ],
   "source": [
    "d\n"
   ]
  },
  {
   "cell_type": "code",
   "execution_count": 7,
   "id": "cb637037",
   "metadata": {},
   "outputs": [],
   "source": [
    "l= ['sudh','kumar',\"xyz\",\"abc\"]\n",
    "d={}\n",
    "\n",
    "for i in l:\n",
    "    d[i]=i.isupper()"
   ]
  },
  {
   "cell_type": "code",
   "execution_count": 8,
   "id": "9bda898b",
   "metadata": {},
   "outputs": [
    {
     "data": {
      "text/plain": [
       "{'sudh': False, 'kumar': False, 'xyz': False, 'abc': False}"
      ]
     },
     "execution_count": 8,
     "metadata": {},
     "output_type": "execute_result"
    }
   ],
   "source": [
    "d"
   ]
  },
  {
   "cell_type": "code",
   "execution_count": 9,
   "id": "0f188bd9",
   "metadata": {},
   "outputs": [
    {
     "data": {
      "text/plain": [
       "{0: 0, 1: 1, 2: 4, 3: 9, 4: 16, 5: 25, 6: 36, 7: 49, 8: 64, 9: 81}"
      ]
     },
     "execution_count": 9,
     "metadata": {},
     "output_type": "execute_result"
    }
   ],
   "source": [
    "{i:i**2 for i in range(10)}"
   ]
  },
  {
   "cell_type": "code",
   "execution_count": 19,
   "id": "a228faf0",
   "metadata": {},
   "outputs": [
    {
     "data": {
      "text/plain": [
       "str_iterator"
      ]
     },
     "execution_count": 19,
     "metadata": {},
     "output_type": "execute_result"
    }
   ],
   "source": [
    "a=iter('mani')\n",
    "type(a)"
   ]
  },
  {
   "cell_type": "code",
   "execution_count": 11,
   "id": "5c4c8521",
   "metadata": {},
   "outputs": [
    {
     "data": {
      "text/plain": [
       "str"
      ]
     },
     "execution_count": 11,
     "metadata": {},
     "output_type": "execute_result"
    }
   ],
   "source": [
    "a1=\"vvv\"\n",
    "type(a1)"
   ]
  },
  {
   "cell_type": "code",
   "execution_count": 17,
   "id": "2d9a2ed7",
   "metadata": {},
   "outputs": [
    {
     "ename": "StopIteration",
     "evalue": "",
     "output_type": "error",
     "traceback": [
      "\u001b[0;31m---------------------------------------------------------------------------\u001b[0m",
      "\u001b[0;31mStopIteration\u001b[0m                             Traceback (most recent call last)",
      "\u001b[0;32m<ipython-input-17-15841f3f11d4>\u001b[0m in \u001b[0;36m<module>\u001b[0;34m\u001b[0m\n\u001b[0;32m----> 1\u001b[0;31m \u001b[0mnext\u001b[0m\u001b[0;34m(\u001b[0m\u001b[0ma\u001b[0m\u001b[0;34m)\u001b[0m\u001b[0;34m\u001b[0m\u001b[0;34m\u001b[0m\u001b[0m\n\u001b[0m",
      "\u001b[0;31mStopIteration\u001b[0m: "
     ]
    }
   ],
   "source": [
    "next(a)"
   ]
  },
  {
   "cell_type": "code",
   "execution_count": 21,
   "id": "3a031e19",
   "metadata": {},
   "outputs": [
    {
     "name": "stdout",
     "output_type": "stream",
     "text": [
      "l\n",
      "o\n",
      "v\n",
      "e\n"
     ]
    }
   ],
   "source": [
    "a1=\"love\"\n",
    "for i in a1:\n",
    "    print(i)"
   ]
  },
  {
   "cell_type": "code",
   "execution_count": 22,
   "id": "23af6afa",
   "metadata": {},
   "outputs": [
    {
     "ename": "TypeError",
     "evalue": "'int' object is not an iterator",
     "output_type": "error",
     "traceback": [
      "\u001b[0;31m---------------------------------------------------------------------------\u001b[0m",
      "\u001b[0;31mTypeError\u001b[0m                                 Traceback (most recent call last)",
      "\u001b[0;32m<ipython-input-22-4c50086c6ed0>\u001b[0m in \u001b[0;36m<module>\u001b[0;34m\u001b[0m\n\u001b[0;32m----> 1\u001b[0;31m \u001b[0mnext\u001b[0m\u001b[0;34m(\u001b[0m\u001b[0;36m12\u001b[0m\u001b[0;34m)\u001b[0m\u001b[0;34m\u001b[0m\u001b[0;34m\u001b[0m\u001b[0m\n\u001b[0m",
      "\u001b[0;31mTypeError\u001b[0m: 'int' object is not an iterator"
     ]
    }
   ],
   "source": [
    "next(12)"
   ]
  },
  {
   "cell_type": "code",
   "execution_count": 23,
   "id": "d2b85d54",
   "metadata": {},
   "outputs": [
    {
     "ename": "TypeError",
     "evalue": "'int' object is not iterable",
     "output_type": "error",
     "traceback": [
      "\u001b[0;31m---------------------------------------------------------------------------\u001b[0m",
      "\u001b[0;31mTypeError\u001b[0m                                 Traceback (most recent call last)",
      "\u001b[0;32m<ipython-input-23-3e2f364f2fd0>\u001b[0m in \u001b[0;36m<module>\u001b[0;34m\u001b[0m\n\u001b[0;32m----> 1\u001b[0;31m \u001b[0ma\u001b[0m\u001b[0;34m=\u001b[0m\u001b[0miter\u001b[0m\u001b[0;34m(\u001b[0m\u001b[0;36m12\u001b[0m\u001b[0;34m)\u001b[0m\u001b[0;34m\u001b[0m\u001b[0;34m\u001b[0m\u001b[0m\n\u001b[0m",
      "\u001b[0;31mTypeError\u001b[0m: 'int' object is not iterable"
     ]
    }
   ],
   "source": [
    "a=iter(12)"
   ]
  },
  {
   "cell_type": "code",
   "execution_count": 26,
   "id": "d9565ba7",
   "metadata": {},
   "outputs": [
    {
     "data": {
      "text/plain": [
       "range(0, 10)"
      ]
     },
     "execution_count": 26,
     "metadata": {},
     "output_type": "execute_result"
    }
   ],
   "source": [
    "range(10) #genertor it returns range object"
   ]
  },
  {
   "cell_type": "code",
   "execution_count": 28,
   "id": "f1dafda3",
   "metadata": {},
   "outputs": [
    {
     "name": "stdout",
     "output_type": "stream",
     "text": [
      "0\n",
      "1\n",
      "2\n",
      "3\n",
      "4\n",
      "5\n",
      "6\n",
      "7\n",
      "8\n",
      "9\n"
     ]
    }
   ],
   "source": [
    "for i in range(10):\n",
    "    print(i)"
   ]
  },
  {
   "cell_type": "code",
   "execution_count": 29,
   "id": "833997fd",
   "metadata": {},
   "outputs": [],
   "source": [
    "d=iter(range(10)) #range function is coverted to iterator object because it is iterable  "
   ]
  },
  {
   "cell_type": "code",
   "execution_count": 30,
   "id": "5a62a804",
   "metadata": {},
   "outputs": [
    {
     "name": "stdout",
     "output_type": "stream",
     "text": [
      "0\n",
      "1\n",
      "2\n",
      "3\n",
      "4\n",
      "5\n",
      "6\n",
      "7\n",
      "8\n",
      "9\n"
     ]
    }
   ],
   "source": [
    "for i in (range(10)):\n",
    "    print(i)"
   ]
  },
  {
   "cell_type": "code",
   "execution_count": 33,
   "id": "db1f560c",
   "metadata": {},
   "outputs": [],
   "source": [
    "def test(n):\n",
    "    for i in range(n):\n",
    "        print(i)"
   ]
  },
  {
   "cell_type": "code",
   "execution_count": 34,
   "id": "cdf3a219",
   "metadata": {},
   "outputs": [
    {
     "name": "stdout",
     "output_type": "stream",
     "text": [
      "0\n",
      "1\n",
      "2\n",
      "3\n",
      "4\n"
     ]
    }
   ],
   "source": [
    "test(5)"
   ]
  },
  {
   "cell_type": "code",
   "execution_count": 35,
   "id": "f4e148ca",
   "metadata": {},
   "outputs": [
    {
     "ename": "TypeError",
     "evalue": "'function' object is not iterable",
     "output_type": "error",
     "traceback": [
      "\u001b[0;31m---------------------------------------------------------------------------\u001b[0m",
      "\u001b[0;31mTypeError\u001b[0m                                 Traceback (most recent call last)",
      "\u001b[0;32m<ipython-input-35-590035a8d69f>\u001b[0m in \u001b[0;36m<module>\u001b[0;34m\u001b[0m\n\u001b[0;32m----> 1\u001b[0;31m \u001b[0miter\u001b[0m\u001b[0;34m(\u001b[0m\u001b[0mtest\u001b[0m\u001b[0;34m)\u001b[0m\u001b[0;34m\u001b[0m\u001b[0;34m\u001b[0m\u001b[0m\n\u001b[0m",
      "\u001b[0;31mTypeError\u001b[0m: 'function' object is not iterable"
     ]
    }
   ],
   "source": [
    "def test(n):\n",
    "    for i in range(n):\n",
    "        print(i)"
   ]
  },
  {
   "cell_type": "code",
   "execution_count": 38,
   "id": "35a75528",
   "metadata": {},
   "outputs": [],
   "source": [
    "def gencube(n):\n",
    "    for i in range(n):\n",
    "        print(i**3)"
   ]
  },
  {
   "cell_type": "code",
   "execution_count": 39,
   "id": "0a8cb264",
   "metadata": {},
   "outputs": [
    {
     "name": "stdout",
     "output_type": "stream",
     "text": [
      "0\n",
      "1\n",
      "8\n",
      "27\n",
      "64\n",
      "125\n",
      "216\n",
      "343\n",
      "512\n",
      "729\n"
     ]
    }
   ],
   "source": [
    "gencube(10)"
   ]
  },
  {
   "cell_type": "code",
   "execution_count": 40,
   "id": "cfa48ec5",
   "metadata": {},
   "outputs": [],
   "source": [
    "def gencube(n):\n",
    "    for i in range(n):\n",
    "        yield i**3  \n",
    "#yield operator creates a afunction which yields \n",
    "#the data or give the data object whereas print give dataset\n",
    "\n",
    "#yield is responsible for create a geneator object which can yield data"
   ]
  },
  {
   "cell_type": "code",
   "execution_count": 41,
   "id": "1a9309b8",
   "metadata": {},
   "outputs": [
    {
     "data": {
      "text/plain": [
       "<generator object gencube at 0x7fba9807ef90>"
      ]
     },
     "execution_count": 41,
     "metadata": {},
     "output_type": "execute_result"
    }
   ],
   "source": [
    "gencube(10)"
   ]
  },
  {
   "cell_type": "code",
   "execution_count": 42,
   "id": "8010255f",
   "metadata": {},
   "outputs": [
    {
     "name": "stdout",
     "output_type": "stream",
     "text": [
      "0\n",
      "1\n",
      "8\n",
      "27\n",
      "64\n",
      "125\n",
      "216\n",
      "343\n",
      "512\n",
      "729\n"
     ]
    }
   ],
   "source": [
    "for  i in gencube(10):\n",
    "    print(i)"
   ]
  },
  {
   "cell_type": "code",
   "execution_count": 43,
   "id": "2a9bc0a1",
   "metadata": {},
   "outputs": [
    {
     "data": {
      "text/plain": [
       "0"
      ]
     },
     "execution_count": 43,
     "metadata": {},
     "output_type": "execute_result"
    }
   ],
   "source": [
    "next(gencube(10)) #gencube is genertor object but not a iterator object"
   ]
  },
  {
   "cell_type": "code",
   "execution_count": 45,
   "id": "ac2f2993",
   "metadata": {},
   "outputs": [],
   "source": [
    "#convert gencube to iterator object\n",
    "\n",
    "v=iter(gencube(10))"
   ]
  },
  {
   "cell_type": "code",
   "execution_count": 47,
   "id": "d58fe2a3",
   "metadata": {},
   "outputs": [
    {
     "data": {
      "text/plain": [
       "1"
      ]
     },
     "execution_count": 47,
     "metadata": {},
     "output_type": "execute_result"
    }
   ],
   "source": [
    "next(v)"
   ]
  },
  {
   "cell_type": "code",
   "execution_count": 48,
   "id": "75cec162",
   "metadata": {},
   "outputs": [
    {
     "name": "stdout",
     "output_type": "stream",
     "text": [
      "0\n",
      "1\n",
      "8\n",
      "27\n",
      "64\n",
      "125\n",
      "216\n",
      "343\n",
      "512\n",
      "729\n"
     ]
    }
   ],
   "source": [
    "for  i in gencube(10): #in this iter and next both are used in for loop  so it genertes data\n",
    "    print(i)"
   ]
  },
  {
   "cell_type": "code",
   "execution_count": null,
   "id": "b737920d",
   "metadata": {},
   "outputs": [],
   "source": [
    "#to create generator function just make use of yield operator in case of return keyword\n"
   ]
  },
  {
   "cell_type": "code",
   "execution_count": 49,
   "id": "d4908564",
   "metadata": {},
   "outputs": [],
   "source": [
    "#fibonnaci series"
   ]
  },
  {
   "cell_type": "code",
   "execution_count": 50,
   "id": "2226db0e",
   "metadata": {},
   "outputs": [],
   "source": [
    "def genfi(n):\n",
    "    a=1\n",
    "    b=1\n",
    "    for i in range(n):\n",
    "        yield a #genertor object yield will remember earlier values\n",
    "        a,b=b,a+b"
   ]
  },
  {
   "cell_type": "code",
   "execution_count": 51,
   "id": "82f29ce3",
   "metadata": {},
   "outputs": [
    {
     "data": {
      "text/plain": [
       "<generator object genfi at 0x7fba98090a50>"
      ]
     },
     "execution_count": 51,
     "metadata": {},
     "output_type": "execute_result"
    }
   ],
   "source": [
    "genfi(10)"
   ]
  },
  {
   "cell_type": "code",
   "execution_count": 52,
   "id": "34b0dcaf",
   "metadata": {},
   "outputs": [
    {
     "name": "stdout",
     "output_type": "stream",
     "text": [
      "1\n",
      "1\n",
      "2\n",
      "3\n",
      "5\n",
      "8\n",
      "13\n",
      "21\n",
      "34\n",
      "55\n"
     ]
    }
   ],
   "source": [
    "for i in genfi(10):\n",
    "    print(i)"
   ]
  },
  {
   "cell_type": "code",
   "execution_count": 53,
   "id": "c93238b6",
   "metadata": {},
   "outputs": [],
   "source": [
    "#string is not a iterator object but it is a iterable  object\n",
    "#make use of iter( ) to create iterator object\n",
    "#generator object will give dataset\n",
    "#make use of yield operator to create generator object\n",
    "#generator object remembers what was done in last call and do this time and give the dataset\n",
    "#on call generator create data sets"
   ]
  },
  {
   "cell_type": "code",
   "execution_count": 54,
   "id": "2cdc0d84",
   "metadata": {},
   "outputs": [],
   "source": [
    "#MAP , REDUCE, FILTER function\n",
    "\n",
    "#used in datamanipulation\n",
    "#they are optimised fuction where time and space complexity is less"
   ]
  },
  {
   "cell_type": "code",
   "execution_count": 55,
   "id": "ad3cf0dd",
   "metadata": {},
   "outputs": [],
   "source": [
    "#temp coversion\n",
    "\n",
    "\n",
    "def square(n):\n",
    "    return n**2"
   ]
  },
  {
   "cell_type": "code",
   "execution_count": 56,
   "id": "5e515e1b",
   "metadata": {},
   "outputs": [
    {
     "data": {
      "text/plain": [
       "16"
      ]
     },
     "execution_count": 56,
     "metadata": {},
     "output_type": "execute_result"
    }
   ],
   "source": [
    "square(4)"
   ]
  },
  {
   "cell_type": "code",
   "execution_count": 57,
   "id": "28af11f8",
   "metadata": {},
   "outputs": [],
   "source": [
    "l=[3,4,5,6,7,8,9]"
   ]
  },
  {
   "cell_type": "code",
   "execution_count": 58,
   "id": "2f22da50",
   "metadata": {},
   "outputs": [],
   "source": [
    "n=[]\n",
    "for i in l:\n",
    "    n.append(square(i)) "
   ]
  },
  {
   "cell_type": "code",
   "execution_count": 59,
   "id": "4d904d42",
   "metadata": {},
   "outputs": [
    {
     "data": {
      "text/plain": [
       "[9, 16, 25, 36, 49, 64, 81]"
      ]
     },
     "execution_count": 59,
     "metadata": {},
     "output_type": "execute_result"
    }
   ],
   "source": [
    "n"
   ]
  },
  {
   "cell_type": "code",
   "execution_count": 60,
   "id": "aece2d40",
   "metadata": {},
   "outputs": [
    {
     "data": {
      "text/plain": [
       "[9, 16, 25, 36, 49, 64, 81]"
      ]
     },
     "execution_count": 60,
     "metadata": {},
     "output_type": "execute_result"
    }
   ],
   "source": [
    "[i**2 for i in l]"
   ]
  },
  {
   "cell_type": "code",
   "execution_count": 61,
   "id": "54107b33",
   "metadata": {},
   "outputs": [
    {
     "data": {
      "text/plain": [
       "[9, 16, 25, 36, 49, 64, 81]"
      ]
     },
     "execution_count": 61,
     "metadata": {},
     "output_type": "execute_result"
    }
   ],
   "source": [
    "[square(i) for i in l]"
   ]
  },
  {
   "cell_type": "code",
   "execution_count": 62,
   "id": "d286a7fd",
   "metadata": {},
   "outputs": [],
   "source": [
    "# syntax -   map(func , iterable object)"
   ]
  },
  {
   "cell_type": "code",
   "execution_count": 66,
   "id": "3f40939b",
   "metadata": {},
   "outputs": [
    {
     "data": {
      "text/plain": [
       "<map at 0x7fba9808a790>"
      ]
     },
     "execution_count": 66,
     "metadata": {},
     "output_type": "execute_result"
    }
   ],
   "source": [
    "map(square , l)"
   ]
  },
  {
   "cell_type": "code",
   "execution_count": 67,
   "id": "8b609316",
   "metadata": {},
   "outputs": [],
   "source": [
    "m=map(square , l)"
   ]
  },
  {
   "cell_type": "code",
   "execution_count": 68,
   "id": "709de5eb",
   "metadata": {},
   "outputs": [
    {
     "data": {
      "text/plain": [
       "[9, 16, 25, 36, 49, 64, 81]"
      ]
     },
     "execution_count": 68,
     "metadata": {},
     "output_type": "execute_result"
    }
   ],
   "source": [
    "list(map(square,l))"
   ]
  },
  {
   "cell_type": "code",
   "execution_count": 69,
   "id": "b0536127",
   "metadata": {},
   "outputs": [
    {
     "data": {
      "text/plain": [
       "[9, 16, 25, 36, 49, 64, 81]"
      ]
     },
     "execution_count": 69,
     "metadata": {},
     "output_type": "execute_result"
    }
   ],
   "source": [
    "list(m)"
   ]
  },
  {
   "cell_type": "code",
   "execution_count": 70,
   "id": "db683b08",
   "metadata": {},
   "outputs": [
    {
     "name": "stdout",
     "output_type": "stream",
     "text": [
      "9\n",
      "16\n",
      "25\n",
      "36\n",
      "49\n",
      "64\n",
      "81\n"
     ]
    }
   ],
   "source": [
    "#map object works as generator object\n",
    "for i in map(square , l):\n",
    "    print(i)"
   ]
  },
  {
   "cell_type": "code",
   "execution_count": 71,
   "id": "31874d63",
   "metadata": {},
   "outputs": [],
   "source": [
    "#lambda operation/function\n",
    "#lambda is a keyword which is used to create anonyoumous fucntion\n",
    "#function without a name"
   ]
  },
  {
   "cell_type": "code",
   "execution_count": 72,
   "id": "a87e3a5b",
   "metadata": {},
   "outputs": [
    {
     "data": {
      "text/plain": [
       "[9, 16, 25, 36, 49, 64, 81]"
      ]
     },
     "execution_count": 72,
     "metadata": {},
     "output_type": "execute_result"
    }
   ],
   "source": [
    "list(map(lambda x : x**2 , l))"
   ]
  },
  {
   "cell_type": "code",
   "execution_count": null,
   "id": "ca319bac",
   "metadata": {},
   "outputs": [],
   "source": [
    "def genfi(n):\n",
    "    a=1\n",
    "    b=1\n",
    "    for i in range(n):\n",
    "        yield a #genertor object yield will remember earlier values\n",
    "        a,b=b,a+b"
   ]
  },
  {
   "cell_type": "code",
   "execution_count": 74,
   "id": "acc609fe",
   "metadata": {},
   "outputs": [],
   "source": [
    "c=lambda x:x**2"
   ]
  },
  {
   "cell_type": "code",
   "execution_count": 75,
   "id": "e00e8aba",
   "metadata": {},
   "outputs": [],
   "source": [
    "c=lambda x:  x**2"
   ]
  },
  {
   "cell_type": "code",
   "execution_count": 76,
   "id": "01ccebe4",
   "metadata": {},
   "outputs": [
    {
     "data": {
      "text/plain": [
       "<map at 0x7fba9808a730>"
      ]
     },
     "execution_count": 76,
     "metadata": {},
     "output_type": "execute_result"
    }
   ],
   "source": [
    "map(c,l)"
   ]
  },
  {
   "cell_type": "code",
   "execution_count": 78,
   "id": "b87b52cc",
   "metadata": {},
   "outputs": [
    {
     "data": {
      "text/plain": [
       "[9, 16, 25, 36, 49, 64, 81]"
      ]
     },
     "execution_count": 78,
     "metadata": {},
     "output_type": "execute_result"
    }
   ],
   "source": [
    "list(map(c,l))"
   ]
  },
  {
   "cell_type": "code",
   "execution_count": 79,
   "id": "1b8bcffa",
   "metadata": {},
   "outputs": [],
   "source": [
    "a=[1,2,3,4,5]\n",
    "b=[5,6,7,4,3]\n",
    "c=[6,7,8,6,5,4]"
   ]
  },
  {
   "cell_type": "code",
   "execution_count": 81,
   "id": "9fe04248",
   "metadata": {},
   "outputs": [],
   "source": [
    "def sum1(x,y,z):\n",
    "    return x+y+z"
   ]
  },
  {
   "cell_type": "code",
   "execution_count": 82,
   "id": "19b9ac50",
   "metadata": {},
   "outputs": [
    {
     "data": {
      "text/plain": [
       "[12, 15, 18, 14, 13]"
      ]
     },
     "execution_count": 82,
     "metadata": {},
     "output_type": "execute_result"
    }
   ],
   "source": [
    "list(map(sum1,a,b,c))"
   ]
  },
  {
   "cell_type": "code",
   "execution_count": 83,
   "id": "c5daac95",
   "metadata": {},
   "outputs": [
    {
     "data": {
      "text/plain": [
       "[12, 15, 18, 14, 13]"
      ]
     },
     "execution_count": 83,
     "metadata": {},
     "output_type": "execute_result"
    }
   ],
   "source": [
    "list(map(lambda x,y,z:x+y+z , a,b,c))"
   ]
  },
  {
   "cell_type": "code",
   "execution_count": 84,
   "id": "c604a5d1",
   "metadata": {},
   "outputs": [],
   "source": [
    "from functools import reduce"
   ]
  },
  {
   "cell_type": "code",
   "execution_count": 85,
   "id": "6897cd2a",
   "metadata": {},
   "outputs": [],
   "source": [
    "l=[4,5,6,7,8,9]"
   ]
  },
  {
   "cell_type": "code",
   "execution_count": 86,
   "id": "c3f9a0f3",
   "metadata": {},
   "outputs": [],
   "source": [
    "# syntax -   - > reduce(function,sequence)"
   ]
  },
  {
   "cell_type": "code",
   "execution_count": 91,
   "id": "5342110d",
   "metadata": {},
   "outputs": [
    {
     "data": {
      "text/plain": [
       "39"
      ]
     },
     "execution_count": 91,
     "metadata": {},
     "output_type": "execute_result"
    }
   ],
   "source": [
    "l=[4,5,6,7,8,9]\n",
    "def summation1 (a,b):\n",
    "    return a+b\n",
    "reduce(summation1,l)"
   ]
  },
  {
   "cell_type": "code",
   "execution_count": 92,
   "id": "06b84979",
   "metadata": {},
   "outputs": [
    {
     "data": {
      "text/plain": [
       "0.0002645502645502645"
      ]
     },
     "execution_count": 92,
     "metadata": {},
     "output_type": "execute_result"
    }
   ],
   "source": [
    "reduce(lambda x,y : x/y ,l)"
   ]
  },
  {
   "cell_type": "code",
   "execution_count": 93,
   "id": "eaa00464",
   "metadata": {},
   "outputs": [
    {
     "data": {
      "text/plain": [
       "39"
      ]
     },
     "execution_count": 93,
     "metadata": {},
     "output_type": "execute_result"
    }
   ],
   "source": [
    "reduce(lambda x,y : x+y ,l)"
   ]
  },
  {
   "cell_type": "code",
   "execution_count": 96,
   "id": "8cb54190",
   "metadata": {},
   "outputs": [],
   "source": [
    "#reduce(lambda x,y,z:x+y+z , l)\n",
    "#reduce will only accept atmost 2 arguments not more than that"
   ]
  },
  {
   "cell_type": "code",
   "execution_count": 98,
   "id": "493448d5",
   "metadata": {},
   "outputs": [],
   "source": [
    "l=[4,5,6,7,8,9,8]"
   ]
  },
  {
   "cell_type": "code",
   "execution_count": 100,
   "id": "c5b1db33",
   "metadata": {},
   "outputs": [
    {
     "data": {
      "text/plain": [
       "[4, 6, 8, 8]"
      ]
     },
     "execution_count": 100,
     "metadata": {},
     "output_type": "execute_result"
    }
   ],
   "source": [
    "list(filter(lambda x : x%2==0,l))"
   ]
  },
  {
   "cell_type": "code",
   "execution_count": 101,
   "id": "2ecc4f75",
   "metadata": {},
   "outputs": [],
   "source": [
    "def even_check(n):\n",
    "    if n%2==0:\n",
    "        return True"
   ]
  },
  {
   "cell_type": "code",
   "execution_count": 102,
   "id": "55f8a89f",
   "metadata": {},
   "outputs": [
    {
     "data": {
      "text/plain": [
       "[4, 6, 8, 8]"
      ]
     },
     "execution_count": 102,
     "metadata": {},
     "output_type": "execute_result"
    }
   ],
   "source": [
    "list(filter(even_check,l))"
   ]
  },
  {
   "cell_type": "code",
   "execution_count": null,
   "id": "efbba3c7",
   "metadata": {},
   "outputs": [],
   "source": []
  }
 ],
 "metadata": {
  "kernelspec": {
   "display_name": "Python 3",
   "language": "python",
   "name": "python3"
  },
  "language_info": {
   "codemirror_mode": {
    "name": "ipython",
    "version": 3
   },
   "file_extension": ".py",
   "mimetype": "text/x-python",
   "name": "python",
   "nbconvert_exporter": "python",
   "pygments_lexer": "ipython3",
   "version": "3.8.8"
  }
 },
 "nbformat": 4,
 "nbformat_minor": 5
}
