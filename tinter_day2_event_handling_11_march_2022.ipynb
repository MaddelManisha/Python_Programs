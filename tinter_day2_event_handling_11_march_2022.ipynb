{
 "cells": [
  {
   "cell_type": "code",
   "execution_count": null,
   "id": "5d02476f",
   "metadata": {},
   "outputs": [],
   "source": [
    "import tkinter \n",
    "from tkinter import *"
   ]
  },
  {
   "cell_type": "code",
   "execution_count": null,
   "id": "9903375f",
   "metadata": {},
   "outputs": [],
   "source": [
    "def showmsg():\n",
    "   # print(\"welcome to pyhton\")\n",
    "    \n",
    "root =tkinter.Tk()\n",
    "root.geometry('200x200')\n",
    "b1=Button(root,text=\"Click Me\",command=showmsg)\n",
    "b1.pack()\n",
    "root.mainloop()"
   ]
  },
  {
   "cell_type": "code",
   "execution_count": null,
   "id": "78ced1d4",
   "metadata": {},
   "outputs": [],
   "source": [
    "import tkinter \n",
    "from tkinter import *\n",
    "\n",
    "def showmsg():\n",
    "    lbl=Label(root,\"welcome to pyhton\")\n",
    "    lbl.pack()\n",
    "    \n",
    "root =Tk()\n",
    "root.geometry(\"400x400\")\n",
    "    \n",
    "b1=Button(root,text=\"Clickme\" , command=showmsg)\n",
    "b1.pack()\n",
    "root.mainloop()"
   ]
  },
  {
   "cell_type": "code",
   "execution_count": null,
   "id": "6971805d",
   "metadata": {},
   "outputs": [],
   "source": [
    "from datetime import *"
   ]
  },
  {
   "cell_type": "code",
   "execution_count": null,
   "id": "7175e52d",
   "metadata": {},
   "outputs": [],
   "source": [
    "import tkinter \n",
    "from tkinter import *\n",
    "\n",
    "def showmsg():\n",
    "    lbl=Label(root,text=datetime.now())\n",
    "    lbl.pack()\n",
    "\n",
    "root=Tk()\n",
    "root.geometry(\"400x400\")\n",
    "\n",
    "b1=Button(root,text=\"Clickme\" , command=showmsg)\n",
    "b1.pack()\n",
    "root.mainloop()"
   ]
  },
  {
   "cell_type": "code",
   "execution_count": null,
   "id": "9c6b187f",
   "metadata": {},
   "outputs": [],
   "source": [
    "import tkinter \n",
    "from tkinter import *\n",
    "\n",
    "def showmsg():\n",
    "    today=datetime.now()\n",
    "    fmdatetime=today.strftime(\"%d-%B-%Y %H:%M:%S %p\")\n",
    "    lbl.config(text=fmdatetime)\n",
    "   \n",
    "    \n",
    "\n",
    "root=Tk()\n",
    "root.geometry(\"400x400\")\n",
    "\n",
    "b1=Button(root,text=\"Clickme\" , command=showmsg)\n",
    "lbl=Label(root,text=\"click the button for date and time\")\n",
    "b1.pack()\n",
    "lbl.pack()\n",
    "root.mainloop()"
   ]
  },
  {
   "cell_type": "code",
   "execution_count": null,
   "id": "c14384a7",
   "metadata": {},
   "outputs": [],
   "source": [
    "import tkinter\n",
    "from tkinter import *\n",
    "\n",
    "count = 0\n",
    "def show_click_count():\n",
    "    global count\n",
    "    count+=1\n",
    "    l1.config(text=str(count))\n",
    "    \n",
    "root=Tk()\n",
    "root.config(bg=\"blue\")\n",
    "root.geometry(\"400x400\")\n",
    "\n",
    "b1=Button(root,text=\"Clickme\" , command=show_click_count)\n",
    "l1=Label(root,text=\"click the button for color change\")\n",
    "b1.pack()\n",
    "l1.pack()\n",
    "root.mainloop()\n",
    "    "
   ]
  },
  {
   "cell_type": "code",
   "execution_count": 1,
   "id": "484fd87b",
   "metadata": {},
   "outputs": [],
   "source": [
    "import tkinter\n",
    "from tkinter import *\n",
    "\n",
    "\n",
    "def change_blue_color():\n",
    "    root.config(bg=\"blue\")\n",
    "def change_red_color():\n",
    "    root.config(bg=\"red\")\n",
    "def change_green_color():\n",
    "    root.config(bg=\"green\")\n",
    "   \n",
    "    \n",
    "root=Tk()\n",
    "\n",
    "root.geometry(\"400x400\")\n",
    "\n",
    "b1=Button(root,text=\"Blue\" ,bg=\"white\", command=change_blue_color)\n",
    "b2=Button(root,text=\"Red\" , bg=\"white\" ,command=change_red_color)\n",
    "b3=Button(root,text=\"Green\" , bg=\"white\", command=change_green_color)\n",
    "\n",
    "l1=Label(root,text=\"click the button for color change\")\n",
    "l1.pack()\n",
    "b1.pack()\n",
    "b2.pack()\n",
    "b3.pack()\n",
    "\n",
    "root.mainloop()\n",
    "    "
   ]
  },
  {
   "cell_type": "code",
   "execution_count": null,
   "id": "c96165db",
   "metadata": {},
   "outputs": [],
   "source": [
    "def changecolor(args):\n",
    "    if str(args)==\"Red\":\n",
    "        root.configure(width=6,bg='red')\n",
    "    elif str(args)==\"Green\":\n",
    "        root.configure(width=10,bg='green')\n",
    "    elif str(args)==\"Blue\":\n",
    "        root.configure(width=12,bg='blue')\n",
    "    else:\n",
    "        root.configure(bg='white')\n",
    "\n",
    "\n",
    "root = Tk()\n",
    "root.geometry('200x200')\n",
    "b1 = Button(root,text=\"Red\", command=lambda: changecolor(\"Red\"))\n",
    "b1.pack()\n",
    "b2=  Button(root,text=\"Blue\", command=lambda: changecolor(\"Blue\"))\n",
    "b2.pack()\n",
    "b3=  Button(root,text=\"Green\", command=lambda: changecolor(\"Green\"))\n",
    "b3.pack()\n",
    "l1=Label(root,text=\"The background color\")\n",
    "l1.pack()\n",
    "root.mainloop()\n"
   ]
  },
  {
   "cell_type": "code",
   "execution_count": null,
   "id": "09bbc046",
   "metadata": {},
   "outputs": [],
   "source": []
  }
 ],
 "metadata": {
  "kernelspec": {
   "display_name": "Python 3 (ipykernel)",
   "language": "python",
   "name": "python3"
  },
  "language_info": {
   "codemirror_mode": {
    "name": "ipython",
    "version": 3
   },
   "file_extension": ".py",
   "mimetype": "text/x-python",
   "name": "python",
   "nbconvert_exporter": "python",
   "pygments_lexer": "ipython3",
   "version": "3.9.7"
  }
 },
 "nbformat": 4,
 "nbformat_minor": 5
}
