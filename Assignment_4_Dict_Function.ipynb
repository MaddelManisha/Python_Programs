{
 "cells": [
  {
   "cell_type": "code",
   "execution_count": null,
   "id": "cb13e8ea",
   "metadata": {},
   "outputs": [],
   "source": [
    "# Write a Python Program(with class concepts) to find the area of the triangle using the below\n",
    "# formula.\n",
    "# area = (s*(s-a)*(s-b)*(s-c)) ** 0.5\n",
    "# Function to take the length of the sides of triangle from user should be defined in the parent\n",
    "# class and function to calculate the area should be defined in subclass.\n"
   ]
  },
  {
   "cell_type": "code",
   "execution_count": 50,
   "id": "07b17dcf",
   "metadata": {},
   "outputs": [
    {
     "name": "stdout",
     "output_type": "stream",
     "text": [
      "Enter lenght of side a of triangle3\n",
      "Enter lenght of side b of triangle4\n",
      "Enter lenght of side c of triangle5\n",
      "Area of triangle is: 6.0\n"
     ]
    }
   ],
   "source": [
    "class Parent_class:\n",
    "    def __init__(self):\n",
    "        \n",
    "        self.a= int(input(\"Enter lenght of side a of triangle\"))\n",
    "        self.b= int(input(\"Enter lenght of side b of triangle\"))\n",
    "        self.c= int(input(\"Enter lenght of side c of triangle\"))\n",
    "        self.s = ( self.a + self.b + self.c ) / 2\n",
    "        \n",
    "   \n",
    "        \n",
    "class sub_class(Parent_class):\n",
    "        \n",
    "    def calculate_area(self):\n",
    "       \n",
    "       print(\"Area of triangle is:\",(self.s*(self.s-self.a)*(self.s-self.b)*(self.s-self.c)) ** 0.5 )\n",
    "        \n",
    "\n",
    "\n",
    "\n",
    "y=sub_class()\n",
    "y.calculate_area()"
   ]
  },
  {
   "cell_type": "code",
   "execution_count": null,
   "id": "490534b3",
   "metadata": {},
   "outputs": [],
   "source": [
    "#Write a function filter_long_words() that takes a list of words and an integer n and returns\n",
    "#the list of words that are longer than n."
   ]
  },
  {
   "cell_type": "code",
   "execution_count": 63,
   "id": "341ad18c",
   "metadata": {},
   "outputs": [
    {
     "name": "stdout",
     "output_type": "stream",
     "text": [
      "enter number of words : 3\n",
      "enter number n : 2\n",
      "enter word: mani\n",
      "enter word: m\n",
      "enter word: maddel\n",
      "['mani', 'maddel']\n"
     ]
    }
   ],
   "source": [
    "def filter_long_words():\n",
    "    \n",
    "    str_n=int(input(\"enter number of words : \"))\n",
    "    \n",
    "    n=int(input(\"enter number n : \"))\n",
    "    \n",
    "    lst=[]\n",
    "    lst_final=[]\n",
    "    for i in range(str_n):\n",
    "        lst.append(str(input(\"enter word: \")))\n",
    "    for i in lst:\n",
    "        if(len(i)>n):\n",
    "            lst_final.append(i)\n",
    "    print(lst_final)\n",
    "\n",
    "filter_long_words()"
   ]
  },
  {
   "cell_type": "code",
   "execution_count": null,
   "id": "f4f05511",
   "metadata": {},
   "outputs": [],
   "source": [
    "# Write a Python program using function concept that maps list of words into a list of integers\n",
    "# representing the lengths of the corresponding words.\n",
    "# Hint: If a list [ ab,cde,erty] is passed on to the python function output should come as [2,3,4]\n",
    "# Here 2,3 and 4 are the lengths of the words in the list."
   ]
  },
  {
   "cell_type": "code",
   "execution_count": 107,
   "id": "345e545b",
   "metadata": {},
   "outputs": [
    {
     "name": "stdout",
     "output_type": "stream",
     "text": [
      "['ab', 'cde', 'erty']\n",
      "[2, 3, 4]\n"
     ]
    }
   ],
   "source": [
    "lst=[ \"ab\",\"cde\",\"erty\"]\n",
    "\n",
    "lst_len=[]\n",
    "l=0\n",
    "def length(lst):\n",
    "    #print(lst)\n",
    "    l=len(lst)\n",
    "    return l\n",
    "       \n",
    "print(lst)    \n",
    "print(list(map(length,lst)))\n",
    "\n",
    "# for i in lst:\n",
    "#     print(i)\n",
    "#     print(len(i))\n",
    "    \n"
   ]
  },
  {
   "cell_type": "code",
   "execution_count": null,
   "id": "bda6bdc8",
   "metadata": {},
   "outputs": [],
   "source": [
    "#Write a Python function which takes a character (i.e. a string of length 1) and returns True if\n",
    "#it is a vowel, False otherwise."
   ]
  },
  {
   "cell_type": "code",
   "execution_count": 113,
   "id": "fb79d8c4",
   "metadata": {},
   "outputs": [
    {
     "name": "stdout",
     "output_type": "stream",
     "text": [
      "Enter a single character : r\n",
      "It is not a  vowel\n"
     ]
    },
    {
     "data": {
      "text/plain": [
       "False"
      ]
     },
     "execution_count": 113,
     "metadata": {},
     "output_type": "execute_result"
    }
   ],
   "source": [
    "def check_vowel(ch):\n",
    "    \n",
    "    if((ch=='a') or (ch=='e') or (ch=='i')or (ch=='o') or (ch=='u')):\n",
    "        print(\"It is a vowel\")\n",
    "        return True\n",
    "    else:\n",
    "        print(\"It is not a  vowel\")\n",
    "        return False\n",
    "c=str(input(\"Enter a single character : \"))\n",
    "check_vowel(c)\n",
    "    "
   ]
  },
  {
   "cell_type": "code",
   "execution_count": null,
   "id": "0bbed437",
   "metadata": {},
   "outputs": [],
   "source": []
  }
 ],
 "metadata": {
  "kernelspec": {
   "display_name": "Python 3",
   "language": "python",
   "name": "python3"
  },
  "language_info": {
   "codemirror_mode": {
    "name": "ipython",
    "version": 3
   },
   "file_extension": ".py",
   "mimetype": "text/x-python",
   "name": "python",
   "nbconvert_exporter": "python",
   "pygments_lexer": "ipython3",
   "version": "3.8.8"
  }
 },
 "nbformat": 4,
 "nbformat_minor": 5
}
