{
 "cells": [
  {
   "cell_type": "code",
   "execution_count": 158,
   "id": "937b58fa",
   "metadata": {},
   "outputs": [
    {
     "name": "stdout",
     "output_type": "stream",
     "text": [
      "<class '__main__.computer'>\n",
      "i5,16gb,1tb\n",
      "i5,16gb,1tb\n"
     ]
    }
   ],
   "source": [
    "class computer:\n",
    "    def config(self):\n",
    "        print(\"i5,16gb,1tb\")\n",
    "a='8'\n",
    "\n",
    "com1=computer()\n",
    "\n",
    "print(type(com1))\n",
    "\n",
    "#computer.config()\n",
    "computer.config(com1)\n",
    "com1.config()\n",
    "\n"
   ]
  },
  {
   "cell_type": "code",
   "execution_count": 5,
   "id": "876ce481",
   "metadata": {},
   "outputs": [
    {
     "name": "stdout",
     "output_type": "stream",
     "text": [
      "<class 'int'>\n"
     ]
    }
   ],
   "source": [
    "print(type(x))"
   ]
  },
  {
   "cell_type": "code",
   "execution_count": 9,
   "id": "6a0902cc",
   "metadata": {},
   "outputs": [],
   "source": [
    "#init method in class"
   ]
  },
  {
   "cell_type": "code",
   "execution_count": 19,
   "id": "794fcdde",
   "metadata": {},
   "outputs": [
    {
     "name": "stdout",
     "output_type": "stream",
     "text": [
      "<class '__main__.computer'>\n",
      "i5,self i5 16\n",
      "i5,self i5 16\n"
     ]
    }
   ],
   "source": [
    "class computer:\n",
    "    \n",
    "    def __init__(self,cpu,ram):\n",
    "        self.cpu=cpu\n",
    "        self.ram=ram\n",
    "    \n",
    "    \n",
    "    def config(self):\n",
    "        print(\"i5,self\",self.cpu,self.ram)\n",
    "a='8'\n",
    "\n",
    "com1=computer('i5',16)\n",
    "\n",
    "print(type(com1))\n",
    "\n",
    "#computer.config()\n",
    "computer.config(com1)\n",
    "com1.config()\n",
    "\n"
   ]
  },
  {
   "cell_type": "code",
   "execution_count": 40,
   "id": "cc011973",
   "metadata": {},
   "outputs": [
    {
     "name": "stdout",
     "output_type": "stream",
     "text": [
      "they are not same\n",
      "140609489972480\n",
      "140609483998064\n",
      "Navin\n",
      "Navin\n"
     ]
    }
   ],
   "source": [
    "class computer1:\n",
    "    def __init__(self):\n",
    "        self.name='Navin'\n",
    "        self.age=20\n",
    "    \n",
    "    \n",
    "    def update(self):\n",
    "        self.age=30\n",
    "    \n",
    "    def compare(self,c2):\n",
    "        if c1.compare(c2):\n",
    "            print(\"they are same\")\n",
    "        else:\n",
    "            print(\"not same\")\n",
    "    \n",
    "    def compare(self,c2):\n",
    "        if self.age==c2.age:\n",
    "            return True\n",
    "        else:\n",
    "            return False\n",
    "\n",
    "\n",
    "\n",
    "c1=computer1()\n",
    "c1.age=45\n",
    "c2=computer1()\n",
    "\n",
    "if c1.compare(c2):\n",
    "    print(\"they are same\")\n",
    "else:\n",
    "    print(\"they are not same\")\n",
    "\n",
    "print(id(c1))\n",
    "print(id(c2))\n",
    "\n",
    "print(c1.name)\n",
    "print(c2.name)"
   ]
  },
  {
   "cell_type": "code",
   "execution_count": null,
   "id": "696cb120",
   "metadata": {},
   "outputs": [],
   "source": [
    "#instance variable or class variable"
   ]
  },
  {
   "cell_type": "code",
   "execution_count": 46,
   "id": "b2bf7ec2",
   "metadata": {},
   "outputs": [
    {
     "name": "stdout",
     "output_type": "stream",
     "text": [
      "IBM 8 4\n",
      "IBM 10 4\n"
     ]
    }
   ],
   "source": [
    "class Car:\n",
    "    \n",
    "    wheels=4 #class variable Class name space\n",
    "    \n",
    "    def __init__(self):\n",
    "        self.mil=10  #instance varibale instance namespace\n",
    "        self.com='IBM'\n",
    "        \n",
    "c1=Car()\n",
    "c2=Car()\n",
    "\n",
    "c1.mil=8\n",
    "\n",
    "\n",
    "\n",
    "print(c1.com,c1.mil,c1.wheels)\n",
    "\n",
    "print(c2.com,c2.mil,c2.wheels)"
   ]
  },
  {
   "cell_type": "code",
   "execution_count": 47,
   "id": "b7540789",
   "metadata": {},
   "outputs": [],
   "source": [
    "#instance method,class methods,static method"
   ]
  },
  {
   "cell_type": "code",
   "execution_count": 53,
   "id": "55c10413",
   "metadata": {},
   "outputs": [
    {
     "name": "stdout",
     "output_type": "stream",
     "text": [
      "44.333333333333336\n"
     ]
    }
   ],
   "source": [
    "class Student:\n",
    "    \n",
    "    school=\"Telusko\"\n",
    "    \n",
    "    def __init__(self,m1,m2,m3):\n",
    "        self.m1=m1\n",
    "        self.m2=m2\n",
    "        self.m3=m3\n",
    "        \n",
    "    def average(self):\n",
    "        return(self.m1+self.m2+self.m3)/3\n",
    "    \n",
    "s1=Student(24,54,34)\n",
    "s2=Student(89,32,12)\n",
    "\n",
    "\n",
    "print(s2.average())"
   ]
  },
  {
   "cell_type": "code",
   "execution_count": 54,
   "id": "f26656ac",
   "metadata": {},
   "outputs": [],
   "source": [
    "#mutators,accesors ,static method, classmethod,instance method"
   ]
  },
  {
   "cell_type": "code",
   "execution_count": 67,
   "id": "f2086521",
   "metadata": {},
   "outputs": [
    {
     "name": "stdout",
     "output_type": "stream",
     "text": [
      "in fact\n",
      "None\n",
      "Telusko\n",
      "44.333333333333336\n"
     ]
    }
   ],
   "source": [
    "class Student:\n",
    "    \n",
    "    school=\"Telusko\"\n",
    "    \n",
    "    def __init__(self,m1,m2,m3):\n",
    "        self.m1=m1\n",
    "        self.m2=m2\n",
    "        self.m3=m3\n",
    "        \n",
    "    def average(self):  #instance method because it works on objects\n",
    "        return(self.m1+self.m2+self.m3)/3\n",
    "    \n",
    "    def get_m1(self): #accesor\n",
    "        return self.m1\n",
    "    \n",
    "    def set_m1(self,value): #mutators\n",
    "        self.m1=value\n",
    "    \n",
    "    #@classmethod  decorator\n",
    "    @classmethod\n",
    "    def info(cls):\n",
    "        return cls.school\n",
    "        \n",
    "    def getSchool(cls):\n",
    "        return cls.school\n",
    "    \n",
    "    @staticmethod\n",
    "    def fact():\n",
    "        print(\"in fact\")\n",
    "        \n",
    "s1=Student(24,54,34)\n",
    "s2=Student(89,32,12)\n",
    "s3=Student(5,6,7)\n",
    "\n",
    "print(s3.fact())\n",
    "\n",
    "s1.average()\n",
    "\n",
    "print(Student.info())\n",
    "\n",
    "\n",
    "print(s2.average())\n",
    "\n",
    "\n"
   ]
  },
  {
   "cell_type": "code",
   "execution_count": 68,
   "id": "41078385",
   "metadata": {},
   "outputs": [],
   "source": [
    "#class within class"
   ]
  },
  {
   "cell_type": "code",
   "execution_count": 80,
   "id": "7413a2d7",
   "metadata": {},
   "outputs": [
    {
     "name": "stdout",
     "output_type": "stream",
     "text": [
      "navin 2\n",
      "HP i5 8\n",
      "<__main__.Student3.Laptop object at 0x7fe23206f940>\n"
     ]
    }
   ],
   "source": [
    "class Student3:\n",
    "    def __init__(self,name,rollno):\n",
    "        self.name=name\n",
    "        self.rollno=rollno\n",
    "        self.Lap = self.Laptop()\n",
    "        \n",
    "    def show(self):\n",
    "        print(self.name , self.rollno)\n",
    "        self.Lap.show()\n",
    "    \n",
    "    class Laptop:\n",
    "        \n",
    "        def __init__(self):\n",
    "            self.brand='HP'\n",
    "            self.cpu='i5'\n",
    "            self.ram=8\n",
    "            \n",
    "        def show(self):\n",
    "            print(self.brand,self.cpu,self.ram)\n",
    "        \n",
    "s1=Student3('navin',2)\n",
    "s3=Student3('jenny',3)\n",
    "\n",
    "s1.show()\n",
    "s1.Lap.brand\n",
    "\n",
    "\n",
    "lap1=Student3.Laptop()\n",
    "print(lap1)\n"
   ]
  },
  {
   "cell_type": "code",
   "execution_count": 81,
   "id": "b9239333",
   "metadata": {},
   "outputs": [],
   "source": [
    "#Inheritance in Pyhton"
   ]
  },
  {
   "cell_type": "code",
   "execution_count": 95,
   "id": "b2576fff",
   "metadata": {},
   "outputs": [
    {
     "name": "stdout",
     "output_type": "stream",
     "text": [
      "fesature1 working\n",
      "fesature2 working\n",
      "fesature3 working\n",
      "fesature1 working\n",
      "fesature3 working\n",
      "fesature7 working\n",
      "fesature8 working\n"
     ]
    }
   ],
   "source": [
    "class A:\n",
    "    def feature1(self):\n",
    "        print(\"fesature1 working\")\n",
    "    def feature2(self):\n",
    "        print(\"fesature2 working\")\n",
    "\n",
    "class B(A): #single level inheritance\n",
    "    \n",
    "    def feature3(self):\n",
    "        print(\"fesature3 working\")\n",
    "    def feature4(self):\n",
    "        print(\"fesature2 working\")\n",
    "        \n",
    "class C(B):\n",
    "    def feature5(self):\n",
    "        print(\"fesature5 working\")\n",
    "    def feature5(self):\n",
    "        print(\"fesature6 working\")\n",
    "\n",
    "class E:\n",
    "    def feature8(self):\n",
    "        print(\"fesature8 working\")\n",
    "\n",
    "\n",
    "\n",
    "class D(A,E): #MULTIPLE Inheritace\n",
    "    def feature7(self):\n",
    "        print(\"fesature7 working\")\n",
    "a1=A()\n",
    "a1.feature1()\n",
    "a1.feature2()\n",
    "\n",
    "b1=B()\n",
    "b1.feature3()\n",
    "\n",
    "b1.feature1()\n",
    "\n",
    "c1=C()\n",
    "c1.feature3()\n",
    "\n",
    "d1=D()\n",
    "d1.feature7()\n",
    "d1.feature8()\n",
    " "
   ]
  },
  {
   "cell_type": "code",
   "execution_count": 96,
   "id": "64be0bb0",
   "metadata": {},
   "outputs": [],
   "source": [
    "#Constructor in inheritance MRO Method Resoultion order"
   ]
  },
  {
   "cell_type": "code",
   "execution_count": 106,
   "id": "32592858",
   "metadata": {},
   "outputs": [
    {
     "name": "stdout",
     "output_type": "stream",
     "text": [
      "in B init()\n",
      "in A init()\n",
      "in B  again init()\n"
     ]
    }
   ],
   "source": [
    "class A1:\n",
    "    def __init__(self):\n",
    "        print(\"in A init()\")\n",
    "    \n",
    "    def feature1(self):\n",
    "        print(\"fesature1 working\")\n",
    "    def feature2(self):\n",
    "        print(\"fesature2 working\")\n",
    "\n",
    "class B1(A1):\n",
    "    def __init__(self):\n",
    "        print(\"in B init()\")\n",
    "        super().__init__()\n",
    "        print(\"in B  again init()\")\n",
    "        \n",
    "        \n",
    "    def feature3(self):\n",
    "        print(\"fesature2 working\")\n",
    "    def feature4(self):\n",
    "        print(\"fesature3 working\")\n",
    "        \n",
    "\n",
    "#a1=A1()\n",
    "\n",
    "\n",
    "a1=B1()\n",
    "\n",
    "    "
   ]
  },
  {
   "cell_type": "code",
   "execution_count": null,
   "id": "c5ea5e47",
   "metadata": {},
   "outputs": [],
   "source": [
    "#MRO"
   ]
  },
  {
   "cell_type": "code",
   "execution_count": 116,
   "id": "729efd95",
   "metadata": {},
   "outputs": [
    {
     "name": "stdout",
     "output_type": "stream",
     "text": [
      "fesature C working\n",
      "fesature1 working\n"
     ]
    }
   ],
   "source": [
    "class A1:\n",
    "    def __init__(self):\n",
    "        print(\"in A init()\")\n",
    "    \n",
    "    def feature1(self):\n",
    "        print(\"fesature1 working\")\n",
    "    def feature2(self):\n",
    "        print(\"fesature2 working\")\n",
    "\n",
    "class B1:\n",
    "    def __init__(self):\n",
    "        print(\"in B init()\")\n",
    "        super().__init__()\n",
    "        print(\"in B  again init()\")\n",
    "        \n",
    "        \n",
    "    def feature1(self):\n",
    "        print(\"fesature2 working\")\n",
    "    def feature4(self):\n",
    "        print(\"fesature3 working\")\n",
    "\n",
    "class C(A):\n",
    "    def feature1(self):\n",
    "        print(\"fesature C working\")\n",
    "        super().feature1()\n",
    "        \n",
    "\n",
    "#a1=A1()\n",
    "\n",
    "c1=C()\n",
    "c1.feature1()"
   ]
  },
  {
   "cell_type": "code",
   "execution_count": 117,
   "id": "cd4b1a60",
   "metadata": {},
   "outputs": [],
   "source": [
    "#poylmorphism Ducktyping"
   ]
  },
  {
   "cell_type": "code",
   "execution_count": 121,
   "id": "4ee64bf9",
   "metadata": {},
   "outputs": [
    {
     "name": "stdout",
     "output_type": "stream",
     "text": [
      "spell check\n",
      "converstion check\n",
      "compiling\n",
      "running\n"
     ]
    }
   ],
   "source": [
    "class pycharm:\n",
    "    def execute(self):\n",
    "        print(\"compiling\")\n",
    "        print(\"running\")\n",
    "\n",
    "class myeditor:\n",
    "    def execute(self):\n",
    "        print(\"spell check\")\n",
    "        print(\"converstion check\")\n",
    "        print(\"compiling\")\n",
    "        print(\"running\")\n",
    "        \n",
    "class Laptop:\n",
    "    def code(self,ide):\n",
    "        ide.execute()\n",
    "        \n",
    "#ide=pycharm()\n",
    "ide=myeditor()\n",
    "\n",
    "lap1=Laptop()\n",
    "lap1.code(ide)\n",
    "\n",
    "        \n"
   ]
  },
  {
   "cell_type": "code",
   "execution_count": 122,
   "id": "83400a7d",
   "metadata": {},
   "outputs": [],
   "source": [
    "#opertor overloading"
   ]
  },
  {
   "cell_type": "code",
   "execution_count": 123,
   "id": "a1272a83",
   "metadata": {},
   "outputs": [
    {
     "name": "stdout",
     "output_type": "stream",
     "text": [
      "11\n",
      "11\n"
     ]
    }
   ],
   "source": [
    "a=5\n",
    "b=6\n",
    "\n",
    "print(a+b)\n",
    "\n",
    "print(int.__add__(a,b))"
   ]
  },
  {
   "cell_type": "code",
   "execution_count": 135,
   "id": "473d9bfa",
   "metadata": {},
   "outputs": [
    {
     "name": "stdout",
     "output_type": "stream",
     "text": [
      "118\n",
      "s2 wins\n",
      "9\n",
      "58 69 \n",
      "58 69 \n"
     ]
    }
   ],
   "source": [
    "class Student:\n",
    "    def __init__(self,m1,m2):\n",
    "        self.m1=m1\n",
    "        self.m2=m2\n",
    "    \n",
    "    def __add__(self,other):\n",
    "        m1=self.m1 + other.m1\n",
    "        m2=self.m2 + other.m2\n",
    "        s3=Student(m1,m2)\n",
    "        return s3\n",
    "        \n",
    "    def __gt__(self,other):\n",
    "        m1=self.m1 + other.m1\n",
    "        m2=self.m2 + other.m2\n",
    "        if m1>m2:\n",
    "            return True\n",
    "        else:\n",
    "            return False\n",
    "        \n",
    "    def __str__(self):\n",
    "        return \"{} {} \" .format(self.m1 ,self.m2)\n",
    "        \n",
    "        \n",
    "\n",
    "s1=Student(58,69)\n",
    "s2=Student(60,65)\n",
    "\n",
    "s3=s1+s2 #Student.__add__(s1,s2)\n",
    "\n",
    "\n",
    "\n",
    "print(s3.m1)\n",
    "\n",
    "\n",
    "if s1>s2:\n",
    "    print(\"s1 wins\")\n",
    "else:\n",
    "    print(\"s2 wins\")\n",
    "    \n",
    "a=9\n",
    "print(a)\n",
    "\n",
    "print(s1)\n",
    "\n",
    "print(s1.__str__())\n",
    "\n"
   ]
  },
  {
   "cell_type": "code",
   "execution_count": 136,
   "id": "40d4ef9f",
   "metadata": {},
   "outputs": [],
   "source": [
    "#method overloading method overriding"
   ]
  },
  {
   "cell_type": "code",
   "execution_count": 152,
   "id": "3d6e224d",
   "metadata": {},
   "outputs": [
    {
     "name": "stdout",
     "output_type": "stream",
     "text": [
      "20\n",
      "14\n",
      "5\n"
     ]
    }
   ],
   "source": [
    "class Student1:\n",
    "    def __init__(self,m1,m2):\n",
    "        self.m1=m1\n",
    "        self.m2=m2\n",
    "    \n",
    "    def sum1(self,a=None,b=None,c=None):\n",
    "        s=0\n",
    "        if a!=None and b!=None and c!=None:\n",
    "            s=a+b+c\n",
    "        elif a!=None and b!=None:\n",
    "            s=a+b\n",
    "        else:\n",
    "            s=a\n",
    "            \n",
    "        return s\n",
    "s1=Student1(58,69)\n",
    "\n",
    "print(s1.sum1(5,9,6))\n",
    "print(s1.sum1(5,9))\n",
    "print(s1.sum1(5))"
   ]
  },
  {
   "cell_type": "code",
   "execution_count": 153,
   "id": "af9d82a5",
   "metadata": {},
   "outputs": [],
   "source": [
    "#method overriding"
   ]
  },
  {
   "cell_type": "code",
   "execution_count": 157,
   "id": "cefe59f1",
   "metadata": {},
   "outputs": [
    {
     "name": "stdout",
     "output_type": "stream",
     "text": [
      "in B show\n"
     ]
    }
   ],
   "source": [
    "class A:\n",
    "    def show(self):\n",
    "        print(\"in A Show\")\n",
    "        \n",
    "class B(A):\n",
    "    def show(self):\n",
    "        print(\"in B show\")\n",
    "        \n",
    "a1=B()\n",
    "a1.show()"
   ]
  },
  {
   "cell_type": "code",
   "execution_count": null,
   "id": "e842e387",
   "metadata": {},
   "outputs": [],
   "source": []
  }
 ],
 "metadata": {
  "kernelspec": {
   "display_name": "Python 3",
   "language": "python",
   "name": "python3"
  },
  "language_info": {
   "codemirror_mode": {
    "name": "ipython",
    "version": 3
   },
   "file_extension": ".py",
   "mimetype": "text/x-python",
   "name": "python",
   "nbconvert_exporter": "python",
   "pygments_lexer": "ipython3",
   "version": "3.8.8"
  }
 },
 "nbformat": 4,
 "nbformat_minor": 5
}
